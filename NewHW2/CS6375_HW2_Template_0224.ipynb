{
 "cells": [
  {
   "cell_type": "code",
   "execution_count": null,
   "metadata": {
    "id": "wOP_9Niafsyp"
   },
   "outputs": [],
   "source": []
  },
  {
   "cell_type": "markdown",
   "metadata": {
    "id": "eiXlYDo7FqE-"
   },
   "source": [
    "### Note: This template is used to save your time. If there are some typos in this file, please **refer to the original PDF file of problems.**\n",
    "\n",
    "\n",
    "## Remember **make your own copy first**!! Otherwise, your code will not be stored."
   ]
  },
  {
   "cell_type": "markdown",
   "metadata": {
    "id": "Etf-bD9jf1Ct"
   },
   "source": [
    "Problem Set 2\n",
    "\n",
    "CS 6375\n",
    "\n",
    "Due: 3/6/2022 by 11:59pm\n",
    "\n",
    "Note: all answers should be accompanied by explanations and relevant code for full credit. All\n",
    "code (Python or MATLAB only) should be turned in with your answers to the following questions. Python is preferred.  \n",
    "Late homeworks will not be accepted. "
   ]
  },
  {
   "cell_type": "markdown",
   "metadata": {
    "id": "CrKDjy4QGZuz"
   },
   "source": [
    "The following code help you download the data files needed for the problems below. After running code, these files will appear in the current folder."
   ]
  },
  {
   "cell_type": "code",
   "execution_count": 190,
   "metadata": {
    "id": "8cFc4QYOENMZ"
   },
   "outputs": [
    {
     "name": "stderr",
     "output_type": "stream",
     "text": [
      "File 'mush_test.data' already there; not retrieving.\n",
      "\n",
      "File 'mush_train.data' already there; not retrieving.\n",
      "\n",
      "File 'park_test.data' already there; not retrieving.\n",
      "\n",
      "File 'park_train.data' already there; not retrieving.\n",
      "\n",
      "File 'park_validation.data' already there; not retrieving.\n",
      "\n",
      "File 'wdbc_test.data' already there; not retrieving.\n",
      "\n",
      "File 'wdbc_train.data' already there; not retrieving.\n",
      "\n"
     ]
    }
   ],
   "source": [
    "# Downloading data files for you.\n",
    "# Remember to run this cell!!\n",
    "\n",
    "!wget -nc https://personal.utdallas.edu/~yangxiao.lu/22SP_CS6375/mush_test.data\n",
    "!wget -nc https://personal.utdallas.edu/~yangxiao.lu/22SP_CS6375/mush_train.data\n",
    "!wget -nc https://personal.utdallas.edu/~yangxiao.lu/22SP_CS6375/park_test.data\n",
    "!wget -nc https://personal.utdallas.edu/~yangxiao.lu/22SP_CS6375/park_train.data\n",
    "!wget -nc https://personal.utdallas.edu/~yangxiao.lu/22SP_CS6375/park_validation.data\n",
    "!wget -nc https://personal.utdallas.edu/~yangxiao.lu/22SP_CS6375/wdbc_test.data\n",
    "!wget -nc https://personal.utdallas.edu/~yangxiao.lu/22SP_CS6375/wdbc_train.data\n"
   ]
  },
  {
   "cell_type": "markdown",
   "metadata": {
    "id": "Eb0SSMCXf8dR"
   },
   "source": [
    "# Problem 1 : Parkinson’s Disease (40 pts)\n",
    "\n",
    "For this problem, you will use the cancer data set provided with this problem set. The data has been\n",
    "divided into three pieces park train.data, park validation.data, and park test.data. These data sets\n",
    "were generated using the UCI Parkinsons Data Set data set (follow the link for information about\n",
    "the format of the data). Note that class label, health status of the subject, is the first column in\n",
    "the data set. All code (Python or MATLAB only) should be turned in with your answers to the\n",
    "following questions."
   ]
  },
  {
   "cell_type": "markdown",
   "metadata": {
    "id": "a_NYPajZgKj3"
   },
   "source": [
    "## 1. Primal SVMs\n",
    "\n"
   ]
  },
  {
   "cell_type": "markdown",
   "metadata": {
    "id": "2RpOEmb8gWfi"
   },
   "source": [
    "### (a) Using gradient descent or quadratic programming, apply the SVM with slack formulation to train a classifier for each choice of $c \\in \\{10^{-4}, 10^{-3}, ..., 10^3, 10^4\\}$ without using any feature maps."
   ]
  },
  {
   "cell_type": "code",
   "execution_count": 191,
   "metadata": {
    "id": "j98YtNzLg2ne"
   },
   "outputs": [],
   "source": [
    "# To be completed. Please write code or words below the problem.\n",
    "#Grab Data\n",
    "import numpy as np\n",
    "import pandas as pd\n",
    "import sys, os\n",
    "\n",
    "col_names = ['y','x1','x2','x3','x4','x5','x6','x7','x8','x9','x10','x11','x12','x13','x14','x15','x16','x17','x18','x19','x20','x21','x22']\n",
    "data =  pd.read_csv('park_train.data', sep=\",\" , names = col_names)\n",
    "#print(data)"
   ]
  },
  {
   "cell_type": "code",
   "execution_count": 192,
   "metadata": {},
   "outputs": [
    {
     "name": "stdout",
     "output_type": "stream",
     "text": [
      "Y dimention:  (78, 1)\n",
      "X dimnetion:  (78, 22)\n"
     ]
    }
   ],
   "source": [
    "Y = data['y'].values\n",
    "Y = Y.reshape(-1,1)\n",
    "print('Y dimention: ',Y.shape)\n",
    "X = data[['x1','x2','x3','x4','x5','x6','x7','x8','x9','x10','x11','x12','x13','x14','x15','x16','x17','x18','x19','x20','x21','x22']].values\n",
    "print('X dimnetion: ',X.shape)"
   ]
  },
  {
   "cell_type": "code",
   "execution_count": 193,
   "metadata": {},
   "outputs": [],
   "source": [
    "import numpy as np\n",
    "\n",
    "def poly_func(X,poly_case):#Use linear only\n",
    "  if poly_case == 'Linear':\n",
    "    return X\n",
    "\n",
    "def K(X1,X2,kernel_option,gamma = 1,poly_case = 'Linear'):\n",
    "  if kernel_option == 'Gaussian':#For Gaussian Later\n",
    "    return  np.exp(-gamma * np.linalg.norm(X1 - X2)**2)/2\n",
    "  if kernel_option == 'Polynomial':\n",
    "    v1 = poly_func(X1,poly_case)\n",
    "    v2 = poly_func(X2,poly_case)\n",
    "    return v1.dot(v2)\n",
    "\n",
    "from cvxopt import matrix as cvxopt_matrix\n",
    "from cvxopt import solvers\n",
    "\n",
    "def SVM_with_Kernel(C,X,Y,kernel_option, gamma = 1,poly_case = 'Linear'):\n",
    "  m,n = X.shape\n",
    "  #C = 0.1\n",
    "  #K = linear_kernel(X, X, degree = 2, intercept = 1)\n",
    "  H = np.zeros([m,m])\n",
    "  for i in range(m):\n",
    "    for j in range(m):\n",
    "      H[i,j] = Y[i]*Y[j] * K(X[i],X[j], kernel_option,gamma, poly_case)\n",
    "\n",
    "#Converting into cvxopt format\n",
    "  P = cvxopt_matrix(H)\n",
    "  q = cvxopt_matrix(-np.ones((m, 1)))\n",
    "  A = cvxopt_matrix(Y.reshape(1, -1)* 1.)\n",
    "  b = cvxopt_matrix(np.zeros(1))          \n",
    "  G = cvxopt_matrix(np.vstack((np.eye(m) * -1, np.eye(m))))        \n",
    "  h = cvxopt_matrix(np.hstack((np.zeros(m), np.ones(m) * C)))\n",
    "#Run solver\n",
    "  solvers.options['show_progress'] = False\n",
    "  sol = solvers.qp(P, q, G, h, A, b);\n",
    "  lambdas = np.array(sol['x']);\n",
    "\n",
    "  return lambdas"
   ]
  },
  {
   "cell_type": "code",
   "execution_count": 194,
   "metadata": {},
   "outputs": [
    {
     "name": "stdout",
     "output_type": "stream",
     "text": [
      "\n",
      "Current C:  0.0001\n",
      "w =  [-1.38830763e-22 -1.41054452e-22 -1.21183796e-23 -1.10012625e-26\n",
      " -4.86739902e-29 -6.94055410e-27 -2.51144042e-27 -2.08089444e-26\n",
      "  2.88202801e-26  3.66346646e-25  1.17632067e-26  2.81547003e-26\n",
      "  2.75478799e-26  3.52952680e-26 -8.65345948e-26 -2.11670814e-23\n",
      " -3.15205913e-25 -2.61591919e-25  4.21286768e-24 -2.48799775e-27\n",
      " -1.75887651e-24 -2.40922199e-26]\n",
      "b =  [1.]\n",
      "Accuracy: 61\n",
      "\n",
      "Current C:  0.001\n",
      "w =  [-4.50967867e-23 -2.97527599e-23 -5.92917295e-23  4.93984757e-27\n",
      "  3.92178130e-29  3.73304345e-27  2.19516724e-27  1.11908861e-26\n",
      " -6.15333479e-27 -7.56167637e-26 -1.06893072e-27 -4.16367281e-27\n",
      " -1.12536111e-26 -3.18933328e-27  6.84466796e-26 -9.23671803e-24\n",
      "  1.09848313e-25 -4.15421699e-26  1.40510135e-24 -4.69037631e-26\n",
      "  1.95297757e-26  5.46941443e-26]\n",
      "b =  [1.]\n",
      "Accuracy: 61\n",
      "\n",
      "Current C:  0.01\n",
      "w =  [-4.36396630e-24  3.60196393e-23  1.91860143e-23  1.32647822e-26\n",
      "  8.77722386e-29  8.49433676e-27  7.58444759e-27  2.54665355e-26\n",
      "  2.47134009e-26  2.42109140e-25  1.40891612e-26  1.52679373e-26\n",
      "  1.00745039e-26  4.22653115e-26  6.41243577e-26 -3.76759933e-24\n",
      " -1.22038230e-25  1.45835265e-25  1.52738603e-24  5.89644187e-26\n",
      "  4.55398756e-25  1.11829947e-25]\n",
      "b =  [1.]\n",
      "Accuracy: 61\n",
      "\n",
      "Current C:  0.1\n",
      "w =  [ 4.56210114e-22 -3.39176202e-21  3.39176889e-22 -3.90474925e-25\n",
      " -2.68335103e-27 -1.78989762e-25 -2.97667098e-25 -5.36239606e-25\n",
      " -3.98201699e-24 -3.97203304e-23 -1.92223771e-24 -2.82141754e-24\n",
      " -3.66643584e-24 -5.76564494e-24 -2.94875484e-24  5.79726531e-22\n",
      "  3.65286655e-26 -6.31649091e-24 -1.85729804e-22 -9.86281398e-24\n",
      " -5.80125149e-23 -1.30761707e-23]\n",
      "b =  [5.35341573e-19]\n",
      "Accuracy: 44\n",
      "\n",
      "Current C:  1.0\n",
      "w =  [-2.64380379e-21  9.60135793e-22  3.42661537e-21  5.54261234e-25\n",
      "  4.54297294e-27  3.32718032e-25  3.76635006e-25  9.97853260e-25\n",
      "  8.88664108e-26  1.40014972e-25 -9.20815750e-26  2.72499900e-25\n",
      "  3.65102623e-25 -2.76047419e-25  2.73370280e-24 -3.01285896e-22\n",
      "  4.38860244e-24  1.05224599e-23  1.25035855e-22  5.83878867e-24\n",
      "  5.52860822e-24  1.31253135e-23]\n",
      "b =  [-3.22403087e-19]\n",
      "Accuracy: 3\n",
      "\n",
      "Current C:  10.0\n",
      "w =  [ 6.31544192e-22  1.16108647e-20 -1.12005803e-21 -7.51555171e-25\n",
      " -7.69996427e-27 -3.19195723e-25 -7.37406944e-25 -9.51641127e-25\n",
      " -5.14610212e-25 -1.35251525e-23  1.57480261e-25 -1.86162797e-24\n",
      " -7.07899465e-25  4.73078961e-25 -5.16359369e-25  1.97250233e-22\n",
      " -2.83800090e-23 -1.10344787e-23 -2.49746013e-22 -3.50892027e-23\n",
      "  2.40950100e-23 -2.01060550e-23]\n",
      "b =  [-2.35132685e-18]\n",
      "Accuracy: 17\n",
      "\n",
      "Current C:  100.0\n",
      "w =  [-4.43810258e-20 -3.58048928e-20 -1.21918395e-20  1.83639685e-24\n",
      "  2.77903700e-26  1.26647665e-24  7.46994257e-25  3.79687900e-24\n",
      "  5.89023770e-24  4.64363488e-23  4.26874191e-24  1.95977856e-24\n",
      "  1.24045669e-24  1.28070705e-23  2.03138664e-23 -1.22538624e-21\n",
      "  4.70692043e-23 -8.40741589e-24  6.08204488e-22 -3.39449674e-23\n",
      " -1.92549615e-22  2.22164723e-23]\n",
      "b =  [1.87284171e-17]\n",
      "Accuracy: 53\n",
      "\n",
      "Current C:  1000.0\n",
      "w =  [-1.53673921e-20 -6.15158091e-22 -2.54679603e-20  7.36293920e-24\n",
      "  8.65324031e-26  4.77298590e-24  3.74377612e-24  1.43175523e-23\n",
      "  1.65117710e-23  1.01125625e-22  1.86476430e-23  7.39289405e-24\n",
      " -1.53570498e-23  5.59336206e-23  9.05637193e-23 -1.70423631e-21\n",
      " -4.27187127e-23 -3.54113624e-23  6.11229070e-22  1.37571835e-22\n",
      " -2.00078318e-22  3.88667381e-23]\n",
      "b =  [8.1405174e-18]\n",
      "Accuracy: 61\n",
      "\n",
      "Current C:  10000.0\n",
      "w =  [ 1.45528332e-18  1.75399859e-18  1.09153323e-18 -6.02547871e-22\n",
      " -6.21141483e-24 -4.23143372e-22 -2.69274644e-22 -1.26993002e-21\n",
      " -8.00626715e-22 -2.70403925e-21 -1.12060162e-21 -1.24753383e-22\n",
      "  1.01156461e-21 -3.36166302e-21 -7.16329821e-21  2.04610693e-19\n",
      " -1.97380294e-21  6.91934347e-21 -4.80398378e-20 -5.44740021e-21\n",
      "  1.39187194e-20 -2.23811946e-21]\n",
      "b =  [-8.73822509e-16]\n",
      "Accuracy: 8\n"
     ]
    }
   ],
   "source": [
    "kernel_option = 'Polynomial'\n",
    "poly_case = 'Linear'\n",
    "dims = {'Linear':22}\n",
    "for C_Values in [1e-4, 1e-3, 1e-2, 1e-1, 1e0, 1e1, 1e2, 1e3, 1e4]:\n",
    "  print('\\nCurrent C: ',C_Values)\n",
    "  lambdas = SVM_with_Kernel(C_Values,X,Y,kernel_option, poly_case)\n",
    "\n",
    "  modified_X = np.zeros([Y.shape[0],dims[poly_case]])\n",
    "  for n in range(Y.shape[0]):\n",
    "    modified_X[n] = poly_func(X[n],poly_case)\n",
    "\n",
    "  w = ((Y * lambdas).T @ modified_X).reshape(-1,1);\n",
    "  S = (lambdas >= 0).flatten();\n",
    "  #print(S)\n",
    "  b = Y[S] - np.dot(modified_X[S], w);\n",
    "  #print('lambdas = ',lambdas[lambdas > 0])\n",
    "\n",
    "  Y_pred = modified_X.dot(w) + b[0]\n",
    "  print('w = ', w.flatten())\n",
    "  print('b = ', b[0])\n",
    "  res = sum([int(Y[i] == np.sign(Y_pred[i])) for i in range(Y.shape[0])])\n",
    "  print('Accuracy:', res)"
   ]
  },
  {
   "cell_type": "markdown",
   "metadata": {
    "id": "rAl48mwng1KS"
   },
   "source": [
    "### (b) What is the accuracy of the learned classifier on the training set for each value of $c$?"
   ]
  },
  {
   "cell_type": "markdown",
   "metadata": {
    "id": "bDH7OciEhE13"
   },
   "source": [
    "The accuracies on training data are 61,61,61,44,3,17,53,61,8 corresponding to c = 1e-4 to 1e4 "
   ]
  },
  {
   "cell_type": "markdown",
   "metadata": {
    "id": "LNPwLgYkhFSS"
   },
   "source": [
    "### (c) Use the validation set to select the best value of $c$. What is the accuracy on the validation set for each value of $c$?"
   ]
  },
  {
   "cell_type": "code",
   "execution_count": 195,
   "metadata": {
    "id": "POAK1R8WhL8K"
   },
   "outputs": [
    {
     "name": "stdout",
     "output_type": "stream",
     "text": [
      "Y_Valid dimention:  (58, 1)\n",
      "X_Valid dimnetion:  (58, 22)\n",
      "\n",
      "Current C:  0.0001\n",
      "w =  [-1.38830763e-22 -1.41054452e-22 -1.21183796e-23 -1.10012625e-26\n",
      " -4.86739902e-29 -6.94055410e-27 -2.51144042e-27 -2.08089444e-26\n",
      "  2.88202801e-26  3.66346646e-25  1.17632067e-26  2.81547003e-26\n",
      "  2.75478799e-26  3.52952680e-26 -8.65345948e-26 -2.11670814e-23\n",
      " -3.15205913e-25 -2.61591919e-25  4.21286768e-24 -2.48799775e-27\n",
      " -1.75887651e-24 -2.40922199e-26]\n",
      "b =  [1.]\n",
      "Accuracy: 43\n",
      "\n",
      "Current C:  0.001\n",
      "w =  [-4.50967867e-23 -2.97527599e-23 -5.92917295e-23  4.93984757e-27\n",
      "  3.92178130e-29  3.73304345e-27  2.19516724e-27  1.11908861e-26\n",
      " -6.15333479e-27 -7.56167637e-26 -1.06893072e-27 -4.16367281e-27\n",
      " -1.12536111e-26 -3.18933328e-27  6.84466796e-26 -9.23671803e-24\n",
      "  1.09848313e-25 -4.15421699e-26  1.40510135e-24 -4.69037631e-26\n",
      "  1.95297757e-26  5.46941443e-26]\n",
      "b =  [1.]\n",
      "Accuracy: 43\n",
      "\n",
      "Current C:  0.01\n",
      "w =  [-4.36396630e-24  3.60196393e-23  1.91860143e-23  1.32647822e-26\n",
      "  8.77722386e-29  8.49433676e-27  7.58444759e-27  2.54665355e-26\n",
      "  2.47134009e-26  2.42109140e-25  1.40891612e-26  1.52679373e-26\n",
      "  1.00745039e-26  4.22653115e-26  6.41243577e-26 -3.76759933e-24\n",
      " -1.22038230e-25  1.45835265e-25  1.52738603e-24  5.89644187e-26\n",
      "  4.55398756e-25  1.11829947e-25]\n",
      "b =  [1.]\n",
      "Accuracy: 43\n",
      "\n",
      "Current C:  0.1\n",
      "w =  [ 4.56210114e-22 -3.39176202e-21  3.39176889e-22 -3.90474925e-25\n",
      " -2.68335103e-27 -1.78989762e-25 -2.97667098e-25 -5.36239606e-25\n",
      " -3.98201699e-24 -3.97203304e-23 -1.92223771e-24 -2.82141754e-24\n",
      " -3.66643584e-24 -5.76564494e-24 -2.94875484e-24  5.79726531e-22\n",
      "  3.65286655e-26 -6.31649091e-24 -1.85729804e-22 -9.86281398e-24\n",
      " -5.80125149e-23 -1.30761707e-23]\n",
      "b =  [5.35341573e-19]\n",
      "Accuracy: 28\n",
      "\n",
      "Current C:  1.0\n",
      "w =  [-2.64380379e-21  9.60135793e-22  3.42661537e-21  5.54261234e-25\n",
      "  4.54297294e-27  3.32718032e-25  3.76635006e-25  9.97853260e-25\n",
      "  8.88664108e-26  1.40014972e-25 -9.20815750e-26  2.72499900e-25\n",
      "  3.65102623e-25 -2.76047419e-25  2.73370280e-24 -3.01285896e-22\n",
      "  4.38860244e-24  1.05224599e-23  1.25035855e-22  5.83878867e-24\n",
      "  5.52860822e-24  1.31253135e-23]\n",
      "b =  [-3.22403087e-19]\n",
      "Accuracy: 2\n",
      "\n",
      "Current C:  10.0\n",
      "w =  [ 6.31544192e-22  1.16108647e-20 -1.12005803e-21 -7.51555171e-25\n",
      " -7.69996427e-27 -3.19195723e-25 -7.37406944e-25 -9.51641127e-25\n",
      " -5.14610212e-25 -1.35251525e-23  1.57480261e-25 -1.86162797e-24\n",
      " -7.07899465e-25  4.73078961e-25 -5.16359369e-25  1.97250233e-22\n",
      " -2.83800090e-23 -1.10344787e-23 -2.49746013e-22 -3.50892027e-23\n",
      "  2.40950100e-23 -2.01060550e-23]\n",
      "b =  [-2.35132685e-18]\n",
      "Accuracy: 12\n",
      "\n",
      "Current C:  100.0\n",
      "w =  [-4.43810258e-20 -3.58048928e-20 -1.21918395e-20  1.83639685e-24\n",
      "  2.77903700e-26  1.26647665e-24  7.46994257e-25  3.79687900e-24\n",
      "  5.89023770e-24  4.64363488e-23  4.26874191e-24  1.95977856e-24\n",
      "  1.24045669e-24  1.28070705e-23  2.03138664e-23 -1.22538624e-21\n",
      "  4.70692043e-23 -8.40741589e-24  6.08204488e-22 -3.39449674e-23\n",
      " -1.92549615e-22  2.22164723e-23]\n",
      "b =  [1.87284171e-17]\n",
      "Accuracy: 40\n",
      "\n",
      "Current C:  1000.0\n",
      "w =  [-1.53673921e-20 -6.15158091e-22 -2.54679603e-20  7.36293920e-24\n",
      "  8.65324031e-26  4.77298590e-24  3.74377612e-24  1.43175523e-23\n",
      "  1.65117710e-23  1.01125625e-22  1.86476430e-23  7.39289405e-24\n",
      " -1.53570498e-23  5.59336206e-23  9.05637193e-23 -1.70423631e-21\n",
      " -4.27187127e-23 -3.54113624e-23  6.11229070e-22  1.37571835e-22\n",
      " -2.00078318e-22  3.88667381e-23]\n",
      "b =  [8.1405174e-18]\n",
      "Accuracy: 43\n",
      "\n",
      "Current C:  10000.0\n",
      "w =  [ 1.45528332e-18  1.75399859e-18  1.09153323e-18 -6.02547871e-22\n",
      " -6.21141483e-24 -4.23143372e-22 -2.69274644e-22 -1.26993002e-21\n",
      " -8.00626715e-22 -2.70403925e-21 -1.12060162e-21 -1.24753383e-22\n",
      "  1.01156461e-21 -3.36166302e-21 -7.16329821e-21  2.04610693e-19\n",
      " -1.97380294e-21  6.91934347e-21 -4.80398378e-20 -5.44740021e-21\n",
      "  1.39187194e-20 -2.23811946e-21]\n",
      "b =  [-8.73822509e-16]\n",
      "Accuracy: 3\n"
     ]
    }
   ],
   "source": [
    "# To be completed\n",
    "validData =  pd.read_csv('park_validation.data', sep=\",\" , names = col_names)\n",
    "Y_Valid = validData['y'].values\n",
    "Y_Valid = Y_Valid.reshape(-1,1)\n",
    "print('Y_Valid dimention: ',Y_Valid.shape)\n",
    "X_Valid = validData[['x1','x2','x3','x4','x5','x6','x7','x8','x9','x10','x11','x12','x13','x14','x15','x16','x17','x18','x19','x20','x21','x22']].values\n",
    "print('X_Valid dimnetion: ',X_Valid.shape)\n",
    "\n",
    "for C_Values in [1e-4, 1e-3, 1e-2, 1e-1, 1e0, 1e1, 1e2, 1e3, 1e4]:\n",
    "  print('\\nCurrent C: ',C_Values)\n",
    "  lambdas = SVM_with_Kernel(C_Values,X,Y,kernel_option, poly_case)\n",
    "\n",
    "  modified_X = np.zeros([Y.shape[0],dims[poly_case]])\n",
    "\n",
    "  for n in range(Y.shape[0]):\n",
    "    modified_X[n] = poly_func(X[n],poly_case)\n",
    "\n",
    "  w = ((Y * lambdas).T @ modified_X).reshape(-1,1);\n",
    "  S = (lambdas >= 0).flatten();\n",
    "  #print(S)\n",
    "  b = Y[S] - np.dot(modified_X[S], w);\n",
    "  #print('lambdas = ',lambdas[lambdas > 0])\n",
    "#New validation data plot in here#\n",
    "  modified_X_Valid = np.zeros([Y_Valid.shape[0],dims[poly_case]])\n",
    "  for n in range(Y_Valid.shape[0]):\n",
    "    modified_X_Valid[n] = poly_func(X_Valid[n],poly_case)\n",
    "  Y_Valid_pred = modified_X_Valid.dot(w) + b[0]\n",
    "  print('w = ', w.flatten())\n",
    "  print('b = ', b[0])\n",
    "  res = sum([int(Y_Valid[i] == np.sign(Y_Valid_pred[i])) for i in range(Y_Valid.shape[0])])\n",
    "  print('Accuracy:', res)"
   ]
  },
  {
   "cell_type": "markdown",
   "metadata": {},
   "source": [
    "The accuracies for each c using validation data are 43,43,43,28,2,12,40,43,3 corresponding to c = 1e-4 to 1e4"
   ]
  },
  {
   "cell_type": "markdown",
   "metadata": {
    "id": "QbS0NSbGhMVV"
   },
   "source": [
    "### (d) Report the accuracy on the test set for the selected classifier"
   ]
  },
  {
   "cell_type": "code",
   "execution_count": 196,
   "metadata": {
    "id": "-A_9md8Jhozg"
   },
   "outputs": [
    {
     "name": "stdout",
     "output_type": "stream",
     "text": [
      "Y_Test dimention:  (59, 1)\n",
      "X_Test dimnetion:  (59, 22)\n",
      "\n",
      "Current C:  0.0001\n",
      "w =  [-1.38830763e-22 -1.41054452e-22 -1.21183796e-23 -1.10012625e-26\n",
      " -4.86739902e-29 -6.94055410e-27 -2.51144042e-27 -2.08089444e-26\n",
      "  2.88202801e-26  3.66346646e-25  1.17632067e-26  2.81547003e-26\n",
      "  2.75478799e-26  3.52952680e-26 -8.65345948e-26 -2.11670814e-23\n",
      " -3.15205913e-25 -2.61591919e-25  4.21286768e-24 -2.48799775e-27\n",
      " -1.75887651e-24 -2.40922199e-26]\n",
      "b =  [1.]\n",
      "Accuracy: 43\n",
      "\n",
      "Current C:  0.001\n",
      "w =  [-4.50967867e-23 -2.97527599e-23 -5.92917295e-23  4.93984757e-27\n",
      "  3.92178130e-29  3.73304345e-27  2.19516724e-27  1.11908861e-26\n",
      " -6.15333479e-27 -7.56167637e-26 -1.06893072e-27 -4.16367281e-27\n",
      " -1.12536111e-26 -3.18933328e-27  6.84466796e-26 -9.23671803e-24\n",
      "  1.09848313e-25 -4.15421699e-26  1.40510135e-24 -4.69037631e-26\n",
      "  1.95297757e-26  5.46941443e-26]\n",
      "b =  [1.]\n",
      "Accuracy: 43\n",
      "\n",
      "Current C:  0.01\n",
      "w =  [-4.36396630e-24  3.60196393e-23  1.91860143e-23  1.32647822e-26\n",
      "  8.77722386e-29  8.49433676e-27  7.58444759e-27  2.54665355e-26\n",
      "  2.47134009e-26  2.42109140e-25  1.40891612e-26  1.52679373e-26\n",
      "  1.00745039e-26  4.22653115e-26  6.41243577e-26 -3.76759933e-24\n",
      " -1.22038230e-25  1.45835265e-25  1.52738603e-24  5.89644187e-26\n",
      "  4.55398756e-25  1.11829947e-25]\n",
      "b =  [1.]\n",
      "Accuracy: 43\n",
      "\n",
      "Current C:  0.1\n",
      "w =  [ 4.56210114e-22 -3.39176202e-21  3.39176889e-22 -3.90474925e-25\n",
      " -2.68335103e-27 -1.78989762e-25 -2.97667098e-25 -5.36239606e-25\n",
      " -3.98201699e-24 -3.97203304e-23 -1.92223771e-24 -2.82141754e-24\n",
      " -3.66643584e-24 -5.76564494e-24 -2.94875484e-24  5.79726531e-22\n",
      "  3.65286655e-26 -6.31649091e-24 -1.85729804e-22 -9.86281398e-24\n",
      " -5.80125149e-23 -1.30761707e-23]\n",
      "b =  [5.35341573e-19]\n",
      "Accuracy: 26\n",
      "\n",
      "Current C:  1.0\n",
      "w =  [-2.64380379e-21  9.60135793e-22  3.42661537e-21  5.54261234e-25\n",
      "  4.54297294e-27  3.32718032e-25  3.76635006e-25  9.97853260e-25\n",
      "  8.88664108e-26  1.40014972e-25 -9.20815750e-26  2.72499900e-25\n",
      "  3.65102623e-25 -2.76047419e-25  2.73370280e-24 -3.01285896e-22\n",
      "  4.38860244e-24  1.05224599e-23  1.25035855e-22  5.83878867e-24\n",
      "  5.52860822e-24  1.31253135e-23]\n",
      "b =  [-3.22403087e-19]\n",
      "Accuracy: 1\n",
      "\n",
      "Current C:  10.0\n",
      "w =  [ 6.31544192e-22  1.16108647e-20 -1.12005803e-21 -7.51555171e-25\n",
      " -7.69996427e-27 -3.19195723e-25 -7.37406944e-25 -9.51641127e-25\n",
      " -5.14610212e-25 -1.35251525e-23  1.57480261e-25 -1.86162797e-24\n",
      " -7.07899465e-25  4.73078961e-25 -5.16359369e-25  1.97250233e-22\n",
      " -2.83800090e-23 -1.10344787e-23 -2.49746013e-22 -3.50892027e-23\n",
      "  2.40950100e-23 -2.01060550e-23]\n",
      "b =  [-2.35132685e-18]\n",
      "Accuracy: 14\n",
      "\n",
      "Current C:  100.0\n",
      "w =  [-4.43810258e-20 -3.58048928e-20 -1.21918395e-20  1.83639685e-24\n",
      "  2.77903700e-26  1.26647665e-24  7.46994257e-25  3.79687900e-24\n",
      "  5.89023770e-24  4.64363488e-23  4.26874191e-24  1.95977856e-24\n",
      "  1.24045669e-24  1.28070705e-23  2.03138664e-23 -1.22538624e-21\n",
      "  4.70692043e-23 -8.40741589e-24  6.08204488e-22 -3.39449674e-23\n",
      " -1.92549615e-22  2.22164723e-23]\n",
      "b =  [1.87284171e-17]\n",
      "Accuracy: 38\n",
      "\n",
      "Current C:  1000.0\n",
      "w =  [-1.53673921e-20 -6.15158091e-22 -2.54679603e-20  7.36293920e-24\n",
      "  8.65324031e-26  4.77298590e-24  3.74377612e-24  1.43175523e-23\n",
      "  1.65117710e-23  1.01125625e-22  1.86476430e-23  7.39289405e-24\n",
      " -1.53570498e-23  5.59336206e-23  9.05637193e-23 -1.70423631e-21\n",
      " -4.27187127e-23 -3.54113624e-23  6.11229070e-22  1.37571835e-22\n",
      " -2.00078318e-22  3.88667381e-23]\n",
      "b =  [8.1405174e-18]\n",
      "Accuracy: 42\n",
      "\n",
      "Current C:  10000.0\n",
      "w =  [ 1.45528332e-18  1.75399859e-18  1.09153323e-18 -6.02547871e-22\n",
      " -6.21141483e-24 -4.23143372e-22 -2.69274644e-22 -1.26993002e-21\n",
      " -8.00626715e-22 -2.70403925e-21 -1.12060162e-21 -1.24753383e-22\n",
      "  1.01156461e-21 -3.36166302e-21 -7.16329821e-21  2.04610693e-19\n",
      " -1.97380294e-21  6.91934347e-21 -4.80398378e-20 -5.44740021e-21\n",
      "  1.39187194e-20 -2.23811946e-21]\n",
      "b =  [-8.73822509e-16]\n",
      "Accuracy: 5\n"
     ]
    }
   ],
   "source": [
    "# To be completed\n",
    "TestData =  pd.read_csv('park_test.data', sep=\",\" , names = col_names)\n",
    "Y_Test = TestData['y'].values\n",
    "Y_Test = Y_Test.reshape(-1,1)\n",
    "print('Y_Test dimention: ',Y_Test.shape)\n",
    "X_Test = TestData[['x1','x2','x3','x4','x5','x6','x7','x8','x9','x10','x11','x12','x13','x14','x15','x16','x17','x18','x19','x20','x21','x22']].values\n",
    "print('X_Test dimnetion: ',X_Test.shape)\n",
    "\n",
    "for C_Values in [1e-4, 1e-3, 1e-2, 1e-1, 1e0, 1e1, 1e2, 1e3, 1e4]:\n",
    "  print('\\nCurrent C: ',C_Values)\n",
    "  lambdas = SVM_with_Kernel(C_Values,X,Y,kernel_option, poly_case)\n",
    "\n",
    "  modified_X = np.zeros([Y.shape[0],dims[poly_case]])\n",
    "  for n in range(Y.shape[0]):\n",
    "    modified_X[n] = poly_func(X[n],poly_case)\n",
    "\n",
    "  w = ((Y * lambdas).T @ modified_X).reshape(-1,1);\n",
    "  S = (lambdas >= 0).flatten();\n",
    "  #print(S)\n",
    "  b = Y[S] - np.dot(modified_X[S], w);\n",
    "  #print('lambdas = ',lambdas[lambdas > 0])\n",
    "#New validation data plot in here#\n",
    "  modified_X_Test = np.zeros([Y_Test.shape[0],dims[poly_case]])\n",
    "  for n in range(Y_Test.shape[0]):\n",
    "    modified_X_Test[n] = poly_func(X_Test[n],poly_case)\n",
    "    \n",
    "  Y_Test_pred = modified_X_Test.dot(w) + b[0]\n",
    "  print('w = ', w.flatten())\n",
    "  print('b = ', b[0])\n",
    "  res = sum([int(Y_Test[i] == np.sign(Y_Test_pred[i])) for i in range(Y_Test.shape[0])])\n",
    "  print('Accuracy:', res)"
   ]
  },
  {
   "cell_type": "markdown",
   "metadata": {},
   "source": [
    "The accuracies for each c using test data are 43,43,42,26,1,14,38,42,5 corresponding to c = 1e-4 to 1e4"
   ]
  },
  {
   "cell_type": "markdown",
   "metadata": {
    "id": "qHIPft8chvpQ"
   },
   "source": [
    "## 2. Dual SVMs with Gaussian Kernels"
   ]
  },
  {
   "cell_type": "markdown",
   "metadata": {
    "id": "Amcl_7l5h32L"
   },
   "source": [
    "### (a) Using quadratic programming, apply the dual of the SVM with slack formulation to train a classifier for each choice of $c \\in \\{10^{-4}, 10^{-3}, ..., 10^3, 10^4\\}$ using a Gaussian kernel with $\\sigma^2 \\in \\{10^{-3}, ..., 10^{3}\\}$."
   ]
  },
  {
   "cell_type": "code",
   "execution_count": 213,
   "metadata": {
    "id": "T2mTJ5m8iZnj"
   },
   "outputs": [
    {
     "name": "stdout",
     "output_type": "stream",
     "text": [
      "Round: 1 Current C: 0.0001 Current Variance 0.001 Accuracy: 61\n",
      "Round: 2 Current C: 0.0001 Current Variance 0.01 Accuracy: 61\n",
      "Round: 3 Current C: 0.0001 Current Variance 0.1 Accuracy: 61\n",
      "Round: 4 Current C: 0.0001 Current Variance 1.0 Accuracy: 37\n",
      "Round: 5 Current C: 0.0001 Current Variance 10.0 Accuracy: 58\n",
      "Round: 6 Current C: 0.0001 Current Variance 100.0 Accuracy: 61\n",
      "Round: 7 Current C: 0.0001 Current Variance 1000.0 Accuracy: 61\n",
      "Round: 8 Current C: 0.001 Current Variance 0.001 Accuracy: 17\n",
      "Round: 9 Current C: 0.001 Current Variance 0.01 Accuracy: 12\n",
      "Round: 10 Current C: 0.001 Current Variance 0.1 Accuracy: 46\n",
      "Round: 11 Current C: 0.001 Current Variance 1.0 Accuracy: 61\n",
      "Round: 12 Current C: 0.001 Current Variance 10.0 Accuracy: 38\n",
      "Round: 13 Current C: 0.001 Current Variance 100.0 Accuracy: 49\n",
      "Round: 14 Current C: 0.001 Current Variance 1000.0 Accuracy: 55\n",
      "Round: 15 Current C: 0.01 Current Variance 0.001 Accuracy: 17\n",
      "Round: 16 Current C: 0.01 Current Variance 0.01 Accuracy: 12\n",
      "Round: 17 Current C: 0.01 Current Variance 0.1 Accuracy: 61\n",
      "Round: 18 Current C: 0.01 Current Variance 1.0 Accuracy: 61\n",
      "Round: 19 Current C: 0.01 Current Variance 10.0 Accuracy: 44\n",
      "Round: 20 Current C: 0.01 Current Variance 100.0 Accuracy: 61\n",
      "Round: 21 Current C: 0.01 Current Variance 1000.0 Accuracy: 61\n",
      "Round: 22 Current C: 0.1 Current Variance 0.001 Accuracy: 61\n",
      "Round: 23 Current C: 0.1 Current Variance 0.01 Accuracy: 61\n",
      "Round: 24 Current C: 0.1 Current Variance 0.1 Accuracy: 61\n",
      "Round: 25 Current C: 0.1 Current Variance 1.0 Accuracy: 61\n",
      "Round: 26 Current C: 0.1 Current Variance 10.0 Accuracy: 61\n",
      "Round: 27 Current C: 0.1 Current Variance 100.0 Accuracy: 8\n",
      "Round: 28 Current C: 0.1 Current Variance 1000.0 Accuracy: 61\n",
      "Round: 29 Current C: 1.0 Current Variance 0.001 Accuracy: 17\n",
      "Round: 30 Current C: 1.0 Current Variance 0.01 Accuracy: 12\n",
      "Round: 31 Current C: 1.0 Current Variance 0.1 Accuracy: 9\n",
      "Round: 32 Current C: 1.0 Current Variance 1.0 Accuracy: 61\n",
      "Round: 33 Current C: 1.0 Current Variance 10.0 Accuracy: 16\n",
      "Round: 34 Current C: 1.0 Current Variance 100.0 Accuracy: 50\n",
      "Round: 35 Current C: 1.0 Current Variance 1000.0 Accuracy: 55\n",
      "Round: 36 Current C: 10.0 Current Variance 0.001 Accuracy: 17\n",
      "Round: 37 Current C: 10.0 Current Variance 0.01 Accuracy: 12\n",
      "Round: 38 Current C: 10.0 Current Variance 0.1 Accuracy: 53\n",
      "Round: 39 Current C: 10.0 Current Variance 1.0 Accuracy: 39\n",
      "Round: 40 Current C: 10.0 Current Variance 10.0 Accuracy: 54\n",
      "Round: 41 Current C: 10.0 Current Variance 100.0 Accuracy: 61\n",
      "Round: 42 Current C: 10.0 Current Variance 1000.0 Accuracy: 61\n",
      "Round: 43 Current C: 100.0 Current Variance 0.001 Accuracy: 17\n",
      "Round: 44 Current C: 100.0 Current Variance 0.01 Accuracy: 12\n",
      "Round: 45 Current C: 100.0 Current Variance 0.1 Accuracy: 46\n",
      "Round: 46 Current C: 100.0 Current Variance 1.0 Accuracy: 22\n",
      "Round: 47 Current C: 100.0 Current Variance 10.0 Accuracy: 61\n",
      "Round: 48 Current C: 100.0 Current Variance 100.0 Accuracy: 61\n",
      "Round: 49 Current C: 100.0 Current Variance 1000.0 Accuracy: 12\n",
      "Round: 50 Current C: 1000.0 Current Variance 0.001 Accuracy: 17\n",
      "Round: 51 Current C: 1000.0 Current Variance 0.01 Accuracy: 12\n",
      "Round: 52 Current C: 1000.0 Current Variance 0.1 Accuracy: 61\n",
      "Round: 53 Current C: 1000.0 Current Variance 1.0 Accuracy: 61\n",
      "Round: 54 Current C: 1000.0 Current Variance 10.0 Accuracy: 37\n",
      "Round: 55 Current C: 1000.0 Current Variance 100.0 Accuracy: 14\n",
      "Round: 56 Current C: 1000.0 Current Variance 1000.0 Accuracy: 61\n",
      "Round: 57 Current C: 10000.0 Current Variance 0.001 Accuracy: 17\n",
      "Round: 58 Current C: 10000.0 Current Variance 0.01 Accuracy: 12\n",
      "Round: 59 Current C: 10000.0 Current Variance 0.1 Accuracy: 61\n",
      "Round: 60 Current C: 10000.0 Current Variance 1.0 Accuracy: 61\n",
      "Round: 61 Current C: 10000.0 Current Variance 10.0 Accuracy: 38\n",
      "Round: 62 Current C: 10000.0 Current Variance 100.0 Accuracy: 61\n",
      "Round: 63 Current C: 10000.0 Current Variance 1000.0 Accuracy: 9\n"
     ]
    }
   ],
   "source": [
    "roundNo = 0\n",
    "for C_Values in [1e-4, 1e-3, 1e-2, 1e-1, 1e0, 1e1, 1e2, 1e3, 1e4]:\n",
    "    for Variance in [1e-3, 1e-2, 1e-1, 1e0, 1e1, 1e2, 1e3]:\n",
    "        roundNo = roundNo + 1\n",
    "        lambdas = SVM_with_Kernel(C_Values,X,Y,'Gaussian', gamma = 1/ (Variance * X.shape[1]))\n",
    "        supports = X[np.where(lambdas > 0)[0]]\n",
    "        #print('Indices of support vectors:\\n',np.where(lambdas > 0)[0])\n",
    "        #print('Support Vectors:\\n',supports)\n",
    "        similarities = np.zeros([Y.shape[0],supports.shape[0]])\n",
    "        for m in range(Y.shape[0]):\n",
    "          for s in range(supports.shape[0]):\n",
    "            similarities[m,s] = K(X[m],supports[s],kernel_option='Gaussian',gamma=1/ (Variance * X.shape[1]))\n",
    "        lambdas = SVM_with_Kernel(C_Values,similarities,Y,'Polynomial',poly_case='Linear')\n",
    "\n",
    "        w = ((Y * lambdas).T @ similarities).reshape(-1,1);\n",
    "        S = (lambdas > 0).flatten();\n",
    "        b = Y[S] - np.dot(similarities[S], w);\n",
    "        Y_pred = similarities.dot(w) + b[0]\n",
    "        res = sum([int(Y[i] == np.sign(Y_pred[i])) for i in range(Y.shape[0])])\n",
    "        print('Round:', roundNo,'Current C:',C_Values,'Current Variance', Variance, 'Accuracy:', res)"
   ]
  },
  {
   "cell_type": "code",
   "execution_count": 206,
   "metadata": {
    "scrolled": false
   },
   "outputs": [
    {
     "name": "stdout",
     "output_type": "stream",
     "text": [
      "Accuracy: 9\n"
     ]
    }
   ],
   "source": []
  },
  {
   "cell_type": "markdown",
   "metadata": {
    "id": "5LV2KiJtiavI"
   },
   "source": [
    "### (b) What is the accuracy of the learned classifier on the training set for each pair of $c$ and $\\sigma^2$?"
   ]
  },
  {
   "cell_type": "markdown",
   "metadata": {
    "id": "PFLgA_a6iiAO"
   },
   "source": [
    "Reported in a"
   ]
  },
  {
   "cell_type": "markdown",
   "metadata": {
    "id": "LFvzJPYSiivF"
   },
   "source": [
    "###(c) Use the validation set to select the best value of $c$ and $\\sigma^2$. What is the accuracy on the validation set for each pair of $c$ and $\\sigma^2$?"
   ]
  },
  {
   "cell_type": "code",
   "execution_count": 220,
   "metadata": {
    "id": "b3jP5-BkiaYm"
   },
   "outputs": [
    {
     "name": "stdout",
     "output_type": "stream",
     "text": [
      "Round: 1 Current C: 0.0001 Current Variance 0.001 Accuracy: 43\n",
      "Round: 2 Current C: 0.0001 Current Variance 0.01 Accuracy: 43\n",
      "Round: 3 Current C: 0.0001 Current Variance 0.1 Accuracy: 43\n",
      "Round: 4 Current C: 0.0001 Current Variance 1.0 Accuracy: 26\n",
      "Round: 5 Current C: 0.0001 Current Variance 10.0 Accuracy: 40\n",
      "Round: 6 Current C: 0.0001 Current Variance 100.0 Accuracy: 43\n",
      "Round: 7 Current C: 0.0001 Current Variance 1000.0 Accuracy: 43\n",
      "Round: 8 Current C: 0.001 Current Variance 0.001 Accuracy: 5\n",
      "Round: 9 Current C: 0.001 Current Variance 0.01 Accuracy: 4\n",
      "Round: 10 Current C: 0.001 Current Variance 0.1 Accuracy: 29\n",
      "Round: 11 Current C: 0.001 Current Variance 1.0 Accuracy: 43\n",
      "Round: 12 Current C: 0.001 Current Variance 10.0 Accuracy: 25\n",
      "Round: 13 Current C: 0.001 Current Variance 100.0 Accuracy: 30\n",
      "Round: 14 Current C: 0.001 Current Variance 1000.0 Accuracy: 37\n",
      "Round: 15 Current C: 0.01 Current Variance 0.001 Accuracy: 5\n",
      "Round: 16 Current C: 0.01 Current Variance 0.01 Accuracy: 4\n",
      "Round: 17 Current C: 0.01 Current Variance 0.1 Accuracy: 43\n",
      "Round: 18 Current C: 0.01 Current Variance 1.0 Accuracy: 43\n",
      "Round: 19 Current C: 0.01 Current Variance 10.0 Accuracy: 32\n",
      "Round: 20 Current C: 0.01 Current Variance 100.0 Accuracy: 43\n",
      "Round: 21 Current C: 0.01 Current Variance 1000.0 Accuracy: 43\n",
      "Round: 22 Current C: 0.1 Current Variance 0.001 Accuracy: 43\n",
      "Round: 23 Current C: 0.1 Current Variance 0.01 Accuracy: 43\n",
      "Round: 24 Current C: 0.1 Current Variance 0.1 Accuracy: 43\n",
      "Round: 25 Current C: 0.1 Current Variance 1.0 Accuracy: 43\n",
      "Round: 26 Current C: 0.1 Current Variance 10.0 Accuracy: 43\n",
      "Round: 27 Current C: 0.1 Current Variance 100.0 Accuracy: 6\n",
      "Round: 28 Current C: 0.1 Current Variance 1000.0 Accuracy: 43\n",
      "Round: 29 Current C: 1.0 Current Variance 0.001 Accuracy: 5\n",
      "Round: 30 Current C: 1.0 Current Variance 0.01 Accuracy: 4\n",
      "Round: 31 Current C: 1.0 Current Variance 0.1 Accuracy: 10\n",
      "Round: 32 Current C: 1.0 Current Variance 1.0 Accuracy: 43\n",
      "Round: 33 Current C: 1.0 Current Variance 10.0 Accuracy: 11\n",
      "Round: 34 Current C: 1.0 Current Variance 100.0 Accuracy: 32\n",
      "Round: 35 Current C: 1.0 Current Variance 1000.0 Accuracy: 36\n",
      "Round: 36 Current C: 10.0 Current Variance 0.001 Accuracy: 15\n",
      "Round: 37 Current C: 10.0 Current Variance 0.01 Accuracy: 12\n",
      "Round: 38 Current C: 10.0 Current Variance 0.1 Accuracy: 33\n",
      "Round: 39 Current C: 10.0 Current Variance 1.0 Accuracy: 27\n",
      "Round: 40 Current C: 10.0 Current Variance 10.0 Accuracy: 37\n",
      "Round: 41 Current C: 10.0 Current Variance 100.0 Accuracy: 43\n",
      "Round: 42 Current C: 10.0 Current Variance 1000.0 Accuracy: 43\n",
      "Round: 43 Current C: 100.0 Current Variance 0.001 Accuracy: 15\n",
      "Round: 44 Current C: 100.0 Current Variance 0.01 Accuracy: 12\n",
      "Round: 45 Current C: 100.0 Current Variance 0.1 Accuracy: 29\n",
      "Round: 46 Current C: 100.0 Current Variance 1.0 Accuracy: 15\n",
      "Round: 47 Current C: 100.0 Current Variance 10.0 Accuracy: 43\n",
      "Round: 48 Current C: 100.0 Current Variance 100.0 Accuracy: 43\n",
      "Round: 49 Current C: 100.0 Current Variance 1000.0 Accuracy: 10\n",
      "Round: 50 Current C: 1000.0 Current Variance 0.001 Accuracy: 15\n",
      "Round: 51 Current C: 1000.0 Current Variance 0.01 Accuracy: 12\n",
      "Round: 52 Current C: 1000.0 Current Variance 0.1 Accuracy: 43\n",
      "Round: 53 Current C: 1000.0 Current Variance 1.0 Accuracy: 43\n",
      "Round: 54 Current C: 1000.0 Current Variance 10.0 Accuracy: 24\n",
      "Round: 55 Current C: 1000.0 Current Variance 100.0 Accuracy: 11\n",
      "Round: 56 Current C: 1000.0 Current Variance 1000.0 Accuracy: 43\n",
      "Round: 57 Current C: 10000.0 Current Variance 0.001 Accuracy: 15\n",
      "Round: 58 Current C: 10000.0 Current Variance 0.01 Accuracy: 12\n",
      "Round: 59 Current C: 10000.0 Current Variance 0.1 Accuracy: 43\n",
      "Round: 60 Current C: 10000.0 Current Variance 1.0 Accuracy: 43\n",
      "Round: 61 Current C: 10000.0 Current Variance 10.0 Accuracy: 25\n",
      "Round: 62 Current C: 10000.0 Current Variance 100.0 Accuracy: 42\n",
      "Round: 63 Current C: 10000.0 Current Variance 1000.0 Accuracy: 6\n",
      "Best Accuracy is: 43\n"
     ]
    }
   ],
   "source": [
    "prevRes = 0\n",
    "roundNo = 0\n",
    "for C_Values in [1e-4, 1e-3, 1e-2, 1e-1, 1e0, 1e1, 1e2, 1e3, 1e4]:\n",
    "    for Variance in [1e-3, 1e-2, 1e-1, 1e0, 1e1, 1e2, 1e3]:\n",
    "        roundNo = roundNo + 1\n",
    "        lambdas = SVM_with_Kernel(C_Values,X,Y,'Gaussian', gamma = 1/ (Variance * X.shape[1]))\n",
    "        supports = X[np.where(lambdas > 0)[0]]\n",
    "        #print('Indices of support vectors:\\n',np.where(lambdas > 0)[0])\n",
    "        #print('Support Vectors:\\n',supports)\n",
    "        similarities = np.zeros([Y.shape[0],supports.shape[0]])\n",
    "        for m in range(Y.shape[0]):\n",
    "          for s in range(supports.shape[0]):\n",
    "            similarities[m,s] = K(X[m],supports[s],kernel_option='Gaussian',gamma=1/ (Variance * X.shape[1]))\n",
    "        lambdas = SVM_with_Kernel(C_Values,similarities,Y,'Polynomial',poly_case='Linear')\n",
    "\n",
    "        w = ((Y * lambdas).T @ similarities).reshape(-1,1);\n",
    "        S = (lambdas > 0).flatten();\n",
    "        b = Y[S] - np.dot(similarities[S], w);\n",
    "        \n",
    "        \n",
    "        Y_Valid_pred = similarities.dot(w) + b[0]\n",
    "        res = sum([int(Y_Valid[i] == np.sign(Y_Valid_pred[i])) for i in range(Y_Valid.shape[0])])\n",
    "        print('Round:', roundNo,'Current C:',C_Values,'Current Variance', Variance, 'Accuracy:', res)\n",
    "        if res > prevRes:\n",
    "            prevRes = res\n",
    "            \n",
    "print('Best Accuracy is:',prevRes)"
   ]
  },
  {
   "cell_type": "markdown",
   "metadata": {
    "id": "VarOw98eirAY"
   },
   "source": [
    "### (d) Report the accuracy on the test set for the selected classifier."
   ]
  },
  {
   "cell_type": "code",
   "execution_count": 217,
   "metadata": {
    "id": "Jc66t5h_i0vm"
   },
   "outputs": [
    {
     "name": "stdout",
     "output_type": "stream",
     "text": [
      "Round: 1 Current C: 0.0001 Current Variance 0.001 Accuracy: 43\n",
      "Round: 2 Current C: 0.0001 Current Variance 0.01 Accuracy: 43\n",
      "Round: 3 Current C: 0.0001 Current Variance 0.1 Accuracy: 43\n",
      "Round: 4 Current C: 0.0001 Current Variance 1.0 Accuracy: 25\n",
      "Round: 5 Current C: 0.0001 Current Variance 10.0 Accuracy: 40\n",
      "Round: 6 Current C: 0.0001 Current Variance 100.0 Accuracy: 43\n",
      "Round: 7 Current C: 0.0001 Current Variance 1000.0 Accuracy: 43\n",
      "Round: 8 Current C: 0.001 Current Variance 0.001 Accuracy: 5\n",
      "Round: 9 Current C: 0.001 Current Variance 0.01 Accuracy: 4\n",
      "Round: 10 Current C: 0.001 Current Variance 0.1 Accuracy: 30\n",
      "Round: 11 Current C: 0.001 Current Variance 1.0 Accuracy: 43\n",
      "Round: 12 Current C: 0.001 Current Variance 10.0 Accuracy: 24\n",
      "Round: 13 Current C: 0.001 Current Variance 100.0 Accuracy: 32\n",
      "Round: 14 Current C: 0.001 Current Variance 1000.0 Accuracy: 35\n",
      "Round: 15 Current C: 0.01 Current Variance 0.001 Accuracy: 5\n",
      "Round: 16 Current C: 0.01 Current Variance 0.01 Accuracy: 4\n",
      "Round: 17 Current C: 0.01 Current Variance 0.1 Accuracy: 43\n",
      "Round: 18 Current C: 0.01 Current Variance 1.0 Accuracy: 43\n",
      "Round: 19 Current C: 0.01 Current Variance 10.0 Accuracy: 34\n",
      "Round: 20 Current C: 0.01 Current Variance 100.0 Accuracy: 43\n",
      "Round: 21 Current C: 0.01 Current Variance 1000.0 Accuracy: 43\n",
      "Round: 22 Current C: 0.1 Current Variance 0.001 Accuracy: 43\n",
      "Round: 23 Current C: 0.1 Current Variance 0.01 Accuracy: 43\n",
      "Round: 24 Current C: 0.1 Current Variance 0.1 Accuracy: 43\n",
      "Round: 25 Current C: 0.1 Current Variance 1.0 Accuracy: 43\n",
      "Round: 26 Current C: 0.1 Current Variance 10.0 Accuracy: 43\n",
      "Round: 27 Current C: 0.1 Current Variance 100.0 Accuracy: 8\n",
      "Round: 28 Current C: 0.1 Current Variance 1000.0 Accuracy: 43\n",
      "Round: 29 Current C: 1.0 Current Variance 0.001 Accuracy: 5\n",
      "Round: 30 Current C: 1.0 Current Variance 0.01 Accuracy: 4\n",
      "Round: 31 Current C: 1.0 Current Variance 0.1 Accuracy: 13\n",
      "Round: 32 Current C: 1.0 Current Variance 1.0 Accuracy: 43\n",
      "Round: 33 Current C: 1.0 Current Variance 10.0 Accuracy: 14\n",
      "Round: 34 Current C: 1.0 Current Variance 100.0 Accuracy: 32\n",
      "Round: 35 Current C: 1.0 Current Variance 1000.0 Accuracy: 34\n",
      "Round: 36 Current C: 10.0 Current Variance 0.001 Accuracy: 16\n",
      "Round: 37 Current C: 10.0 Current Variance 0.01 Accuracy: 13\n",
      "Round: 38 Current C: 10.0 Current Variance 0.1 Accuracy: 31\n",
      "Round: 39 Current C: 10.0 Current Variance 1.0 Accuracy: 26\n",
      "Round: 40 Current C: 10.0 Current Variance 10.0 Accuracy: 37\n",
      "Round: 41 Current C: 10.0 Current Variance 100.0 Accuracy: 43\n",
      "Round: 42 Current C: 10.0 Current Variance 1000.0 Accuracy: 43\n",
      "Round: 43 Current C: 100.0 Current Variance 0.001 Accuracy: 16\n",
      "Round: 44 Current C: 100.0 Current Variance 0.01 Accuracy: 13\n",
      "Round: 45 Current C: 100.0 Current Variance 0.1 Accuracy: 27\n",
      "Round: 46 Current C: 100.0 Current Variance 1.0 Accuracy: 17\n",
      "Round: 47 Current C: 100.0 Current Variance 10.0 Accuracy: 43\n",
      "Round: 48 Current C: 100.0 Current Variance 100.0 Accuracy: 43\n",
      "Round: 49 Current C: 100.0 Current Variance 1000.0 Accuracy: 9\n",
      "Round: 50 Current C: 1000.0 Current Variance 0.001 Accuracy: 16\n",
      "Round: 51 Current C: 1000.0 Current Variance 0.01 Accuracy: 13\n",
      "Round: 52 Current C: 1000.0 Current Variance 0.1 Accuracy: 43\n",
      "Round: 53 Current C: 1000.0 Current Variance 1.0 Accuracy: 43\n",
      "Round: 54 Current C: 1000.0 Current Variance 10.0 Accuracy: 24\n",
      "Round: 55 Current C: 1000.0 Current Variance 100.0 Accuracy: 11\n",
      "Round: 56 Current C: 1000.0 Current Variance 1000.0 Accuracy: 43\n",
      "Round: 57 Current C: 10000.0 Current Variance 0.001 Accuracy: 16\n",
      "Round: 58 Current C: 10000.0 Current Variance 0.01 Accuracy: 13\n",
      "Round: 59 Current C: 10000.0 Current Variance 0.1 Accuracy: 43\n",
      "Round: 60 Current C: 10000.0 Current Variance 1.0 Accuracy: 43\n",
      "Round: 61 Current C: 10000.0 Current Variance 10.0 Accuracy: 24\n",
      "Round: 62 Current C: 10000.0 Current Variance 100.0 Accuracy: 42\n",
      "Round: 63 Current C: 10000.0 Current Variance 1000.0 Accuracy: 8\n",
      "Best Accuracy is: 43\n"
     ]
    }
   ],
   "source": [
    "prevRes = 0\n",
    "roundNo = 0\n",
    "for C_Values in [1e-4, 1e-3, 1e-2, 1e-1, 1e0, 1e1, 1e2, 1e3, 1e4]:\n",
    "    for Variance in [1e-3, 1e-2, 1e-1, 1e0, 1e1, 1e2, 1e3]:\n",
    "        roundNo = roundNo + 1\n",
    "        lambdas = SVM_with_Kernel(C_Values,X,Y,'Gaussian', gamma = 1/ (Variance * X.shape[1]))\n",
    "        supports = X[np.where(lambdas > 0)[0]]\n",
    "        #print('Indices of support vectors:\\n',np.where(lambdas > 0)[0])\n",
    "        #print('Support Vectors:\\n',supports)\n",
    "        similarities = np.zeros([Y.shape[0],supports.shape[0]])\n",
    "        for m in range(Y.shape[0]):\n",
    "          for s in range(supports.shape[0]):\n",
    "            similarities[m,s] = K(X[m],supports[s],kernel_option='Gaussian',gamma=1/ (Variance * X.shape[1]))\n",
    "        lambdas = SVM_with_Kernel(C_Values,similarities,Y,'Polynomial',poly_case='Linear')\n",
    "\n",
    "        w = ((Y * lambdas).T @ similarities).reshape(-1,1);\n",
    "        S = (lambdas > 0).flatten();\n",
    "        b = Y[S] - np.dot(similarities[S], w);\n",
    "        \n",
    "        Y_Test_pred = similarities.dot(w) + b[0]\n",
    "        res = sum([int(Y_Test[i] == np.sign(Y_Test_pred[i])) for i in range(Y_Test.shape[0])])\n",
    "        print('Round:', roundNo,'Current C:',C_Values,'Current Variance', Variance, 'Accuracy:', res)\n",
    "        if res > prevRes:\n",
    "            prevRes = res\n",
    "            \n",
    "print('Best Accuracy is:',prevRes)"
   ]
  },
  {
   "cell_type": "markdown",
   "metadata": {
    "id": "jt2HpXQ6iuyf"
   },
   "source": [
    "## 3. Which of these approaches (if any) should be preferred for this classification task? Explain."
   ]
  },
  {
   "cell_type": "markdown",
   "metadata": {
    "id": "W7zdNJYYjJe4"
   },
   "source": [
    "From the data observed, since Primal SVM using linear polynomial yields better accuracy in test data sets, Primal SVM should be preferred."
   ]
  },
  {
   "cell_type": "markdown",
   "metadata": {
    "id": "BMAvYJOrf_k3"
   },
   "source": [
    "# Problem 2: Method of Lagrange Multipliers (15 pts)"
   ]
  },
  {
   "cell_type": "markdown",
   "metadata": {
    "id": "4GSjJqP4jhH0"
   },
   "source": [
    "Suppose that we modified the objective function in the SVM with slack formulation to be a quadratic\n",
    "penalty instead of a linear penalty, that is minimize $\\frac{1}{2}\\Vert w\\Vert^2 +c\\sum_i \\xi_i^2$ subject to the same constraints as the standard SVM with slack. What is the dual of this new quadratic penalized SVM with slack problem for a fixed c? Can the kernel trick still be applied?"
   ]
  },
  {
   "cell_type": "markdown",
   "metadata": {
    "id": "8pWt7DtUjuFW"
   },
   "source": [
    "Answered in attached PDF"
   ]
  },
  {
   "cell_type": "markdown",
   "metadata": {
    "id": "ywALwgmpgBS1"
   },
   "source": [
    "# Problem 3: Poisonous Mushrooms? (25 pts)\n",
    "For this problem, you will use the mushroom data set provided with this problem set. The data has\n",
    "been divided into two pieces mush train.data and mush test.data. These data sets were generated\n",
    "using the UCI Mushroom data set (follow the link for information about the format of the data).\n",
    "Note that the class label is the first column in the data set."
   ]
  },
  {
   "cell_type": "markdown",
   "metadata": {
    "id": "TevsQueIkzrk"
   },
   "source": [
    "## 1. Assuming you break ties using the attribute that occurs **last** (left to right) in the data, draw the resulting decision tree and report the maximum information gain for each node that you added to the tree."
   ]
  },
  {
   "cell_type": "code",
   "execution_count": 270,
   "metadata": {
    "id": "pgs5jxgkj3Y8"
   },
   "outputs": [
    {
     "name": "stdout",
     "output_type": "stream",
     "text": [
      "   y x1 x2 x3 x4 x5 x6 x7 x8 x9  ... x13 x14 x15 x16 x17 x18 x19 x20 x21 x22\n",
      "0  e  f  f  n  t  n  f  c  b  n  ...   s   p   g   p   w   o   p   n   y   d\n",
      "1  e  x  y  y  t  a  f  c  b  n  ...   y   w   w   p   w   o   p   n   y   p\n",
      "2  p  x  y  n  t  p  f  c  n  k  ...   s   w   w   p   w   o   p   k   s   g\n",
      "3  p  x  s  n  f  y  f  c  n  b  ...   k   w   w   p   w   o   e   w   v   p\n",
      "4  e  x  f  w  t  l  f  w  n  w  ...   s   w   w   p   w   o   p   u   v   d\n",
      "\n",
      "[5 rows x 23 columns]\n",
      "   y x1 x2 x3 x4 x5 x6 x7 x8 x9  ... x13 x14 x15 x16 x17 x18 x19 x20 x21 x22\n",
      "0  p  x  f  y  f  f  f  c  b  p  ...   k   n   b   p   w   o   l   h   y   g\n",
      "1  p  x  f  g  f  f  f  c  b  g  ...   k   p   n   p   w   o   l   h   v   p\n",
      "2  p  x  f  y  f  f  f  c  b  g  ...   k   n   b   p   w   o   l   h   y   p\n",
      "3  e  f  y  n  t  n  f  c  b  n  ...   s   g   p   p   w   o   p   k   y   d\n",
      "4  p  f  f  g  f  f  f  c  b  p  ...   k   p   p   p   w   o   l   h   y   g\n",
      "\n",
      "[5 rows x 23 columns]\n"
     ]
    }
   ],
   "source": [
    "import pandas as pd # data processing\n",
    "import numpy as np # working with arrays\n",
    "import math\n",
    "\n",
    "from sklearn.tree import DecisionTreeClassifier as dtc # tree algorithm\n",
    "from sklearn.model_selection import train_test_split # splitting the data\n",
    "from sklearn.metrics import accuracy_score # model precision\n",
    "from sklearn.tree import plot_tree # tree diagram\n",
    "\n",
    "col_names = ['y','x1','x2','x3','x4','x5','x6','x7','x8','x9','x10','x11','x12','x13','x14','x15','x16','x17','x18','x19','x20','x21','x22']\n",
    "mushTrainData =  pd.read_csv('mush_train.data', sep=\",\" , names = col_names)\n",
    "mushTestData =  pd.read_csv('mush_test.data', sep=\",\" , names = col_names)\n",
    "print(mushTrainData.head())\n",
    "print(mushTestData.head())"
   ]
  },
  {
   "cell_type": "code",
   "execution_count": 271,
   "metadata": {},
   "outputs": [
    {
     "name": "stdout",
     "output_type": "stream",
     "text": [
      "      y  x1  x2  x3  x4  x5  x6  x7  x8  x9  ...  x13  x14  x15  x16  x17  \\\n",
      "0     0   6   6  14  20  14   6   3   2  14  ...   19   16    7   16   23   \n",
      "1     0  24  25  25  20   1   6   3   2  14  ...   25   23   23   16   23   \n",
      "2     1  24  25  14  20  16   6   3  14  11  ...   19   23   23   16   23   \n",
      "3     1  24  19  14   6  25   6   3  14   2  ...   11   23   23   16   23   \n",
      "4     0  24   6  23  20  12   6  23  14  23  ...   19   23   23   16   23   \n",
      "...  ..  ..  ..  ..  ..  ..  ..  ..  ..  ..  ...  ...  ...  ...  ...  ...   \n",
      "4707  1  24  25   7   6   6   6   3   2  16  ...   11    2   16   16   23   \n",
      "4708  0  24  25  14  20  14   6   3   2  14  ...   19    7   16   16   23   \n",
      "4709  0   6   6  14   6  14   6  23   2   8  ...   19   23   23   16   23   \n",
      "4710  1  24   6  25   6   6   6   3   2   7  ...   11   14   16   16   23   \n",
      "4711  0  24   6   7  20  14   6   3   2  16  ...   19   23   23   16   23   \n",
      "\n",
      "      x18  x19  x20  x21  x22  \n",
      "0      15   16   14   25    4  \n",
      "1      15   16   14   25   16  \n",
      "2      15   16   11   19    7  \n",
      "3      15    5   23   22   16  \n",
      "4      15   16   21   22    4  \n",
      "...   ...  ...  ...  ...  ...  \n",
      "4707   15   12    8   22    4  \n",
      "4708   15   16   11   25    4  \n",
      "4709   15    5   11   19    7  \n",
      "4710   15   12    8   25    7  \n",
      "4711   15   16   14   22    4  \n",
      "\n",
      "[4712 rows x 23 columns]\n",
      "      y  x1  x2  x3  x4  x5  x6  x7  x8  x9  ...  x13  x14  x15  x16  x17  \\\n",
      "0     1  24   6  25   6   6   6   3   2  16  ...   11   14    2   16   23   \n",
      "1     1  24   6   7   6   6   6   3   2   7  ...   11   16   14   16   23   \n",
      "2     1  24   6  25   6   6   6   3   2   7  ...   11   14    2   16   23   \n",
      "3     0   6  25  14  20  14   6   3   2  14  ...   19    7   16   16   23   \n",
      "4     1   6   6   7   6   6   6   3   2  16  ...   11   16   16   16   23   \n",
      "...  ..  ..  ..  ..  ..  ..  ..  ..  ..  ..  ...  ...  ...  ...  ...  ...   \n",
      "3407  1  24   6   7   6   6   6   3   2   8  ...   11   14   14   16   23   \n",
      "3408  0  24  25  14  20  14   6   3   2  23  ...   19    7   23   16   23   \n",
      "3409  1   6  19   7  20   6   6   3   2   8  ...   19   23   23   16   23   \n",
      "3410  0  24   6   5  20  14   6   3   2  23  ...   19   16   16   16   23   \n",
      "3411  1  24  25   5   6   6   6   3  14   2  ...   19   23   16   16   23   \n",
      "\n",
      "      x18  x19  x20  x21  x22  \n",
      "0      15   12    8   25    7  \n",
      "1      15   12    8   22   16  \n",
      "2      15   12    8   25   16  \n",
      "3      15   16   11   25    4  \n",
      "4      15   12    8   25    7  \n",
      "...   ...  ...  ...  ...  ...  \n",
      "3407   15   12    8   25   16  \n",
      "3408   15   16   14   22    4  \n",
      "3409   15   16    8   19    7  \n",
      "3410   15   16   11   25    4  \n",
      "3411   15    5   23   22   16  \n",
      "\n",
      "[3412 rows x 23 columns]\n"
     ]
    }
   ],
   "source": [
    "for i in mushTrainData.y.values:\n",
    "    if i  == 'e':#eatable = 0; poison =1 \n",
    "        mushTrainData.y.replace(i, 0, inplace = True)\n",
    "    elif i == 'p':\n",
    "        mushTrainData.y.replace(i, 1, inplace = True)\n",
    "\n",
    "df1 = mushTrainData.replace('a', 1)\n",
    "df1 = df1.replace('b', 2)\n",
    "df1 = df1.replace('c', 3)\n",
    "df1 = df1.replace('d', 4)\n",
    "df1 = df1.replace('e', 5)\n",
    "df1 = df1.replace('f', 6)\n",
    "df1 = df1.replace('g', 7)\n",
    "df1 = df1.replace('h', 8)\n",
    "df1 = df1.replace('i', 9)\n",
    "df1 = df1.replace('j', 10)\n",
    "df1 = df1.replace('k', 11)\n",
    "df1 = df1.replace('l', 12)\n",
    "df1 = df1.replace('m', 13)\n",
    "df1 = df1.replace('n', 14)\n",
    "df1 = df1.replace('o', 15)\n",
    "df1 = df1.replace('p', 16)\n",
    "df1 = df1.replace('q', 17)\n",
    "df1 = df1.replace('r', 18)\n",
    "df1 = df1.replace('s', 19)\n",
    "df1 = df1.replace('t', 20)\n",
    "df1 = df1.replace('u', 21)\n",
    "df1 = df1.replace('v', 22)\n",
    "df1 = df1.replace('w', 23)\n",
    "df1 = df1.replace('x', 24)\n",
    "df1 = df1.replace('y', 25)\n",
    "df1 = df1.replace('z', 26)\n",
    "print(df1)\n",
    "\n",
    "for i in mushTestData.y.values:\n",
    "    if i  == 'e':#eatable = 0; poison =1 \n",
    "        mushTestData.y.replace(i, 0, inplace = True)\n",
    "    elif i == 'p':\n",
    "        mushTestData.y.replace(i, 1, inplace = True)\n",
    "\n",
    "df2 = mushTestData.replace('a', 1)\n",
    "df2 = df2.replace('b', 2)\n",
    "df2 = df2.replace('c', 3)\n",
    "df2 = df2.replace('d', 4)\n",
    "df2 = df2.replace('e', 5)\n",
    "df2 = df2.replace('f', 6)\n",
    "df2 = df2.replace('g', 7)\n",
    "df2 = df2.replace('h', 8)\n",
    "df2 = df2.replace('i', 9)\n",
    "df2 = df2.replace('j', 10)\n",
    "df2 = df2.replace('k', 11)\n",
    "df2 = df2.replace('l', 12)\n",
    "df2 = df2.replace('m', 13)\n",
    "df2 = df2.replace('n', 14)\n",
    "df2 = df2.replace('o', 15)\n",
    "df2 = df2.replace('p', 16)\n",
    "df2 = df2.replace('q', 17)\n",
    "df2 = df2.replace('r', 18)\n",
    "df2 = df2.replace('s', 19)\n",
    "df2 = df2.replace('t', 20)\n",
    "df2 = df2.replace('u', 21)\n",
    "df2 = df2.replace('v', 22)\n",
    "df2 = df2.replace('w', 23)\n",
    "df2 = df2.replace('x', 24)\n",
    "df2 = df2.replace('y', 25)\n",
    "df2 = df2.replace('z', 26)\n",
    "print(df2)"
   ]
  },
  {
   "cell_type": "code",
   "execution_count": 314,
   "metadata": {
    "scrolled": true
   },
   "outputs": [
    {
     "name": "stdout",
     "output_type": "stream",
     "text": [
      "Index(['x1', 'x2', 'x3', 'x4', 'x5', 'x6', 'x7', 'x8', 'x9', 'x10', 'x11',\n",
      "       'x12', 'x13', 'x14', 'x15', 'x16', 'x17', 'x18', 'x19', 'x20', 'x21'],\n",
      "      dtype='object')\n"
     ]
    },
    {
     "data": {
      "image/png": "[encoded data removed]",
      "text/plain": [
       "<Figure size 1800x1440 with 1 Axes>"
      ]
     },
     "metadata": {
      "needs_background": "light"
     },
     "output_type": "display_data"
    }
   ],
   "source": [
    "feature_names = df1.columns[1:22]\n",
    "print (feature_names)\n",
    "target_names = df1['y'].unique().tolist()\n",
    "\n",
    "model = dtc(criterion = 'entropy', max_depth = 6)\n",
    "model.fit(df1_X_train, df1_Y_train)\n",
    "\n",
    "plot_tree(model, \n",
    "          feature_names = str(feature_names), \n",
    "          class_names = str(target_names), \n",
    "          filled = True, \n",
    "          rounded = True, fontsize = 10)\n",
    "rcParams['figure.figsize'] = (25, 20)"
   ]
  },
  {
   "cell_type": "code",
   "execution_count": null,
   "metadata": {},
   "outputs": [],
   "source": []
  },
  {
   "cell_type": "markdown",
   "metadata": {
    "id": "C1BF54yinTni"
   },
   "source": [
    "## 2. What is the accuracy of this decision tree on the test data?"
   ]
  },
  {
   "cell_type": "code",
   "execution_count": 287,
   "metadata": {
    "id": "xqGWpAugnif8"
   },
   "outputs": [
    {
     "name": "stdout",
     "output_type": "stream",
     "text": [
      "df1_Y_train dimention:  (4712, 1)\n",
      "X dimnetion:  (4712, 22)\n",
      "Accuracy of the model is: 0.9868112543962485\n"
     ]
    }
   ],
   "source": [
    "df1_Y_train = df1['y'].values\n",
    "df1_Y_train = df1_Y_train.reshape(-1,1)\n",
    "print('df1_Y_train dimention: ',df1_Y_train.shape)\n",
    "df1_X_train = df1[['x1','x2','x3','x4','x5','x6','x7','x8','x9','x10','x11','x12','x13','x14','x15','x16','x17','x18','x19','x20','x21','x22']].values\n",
    "print('X dimnetion: ',df1_X_train.shape)\n",
    "\n",
    "df2_Y_test = df2['y'].values\n",
    "df2_Y_test = df2_Y_test.reshape(-1,1)\n",
    "\n",
    "df2_X_test = df2[['x1','x2','x3','x4','x5','x6','x7','x8','x9','x10','x11','x12','x13','x14','x15','x16','x17','x18','x19','x20','x21','x22']].values\n",
    "\n",
    "\n",
    "\n",
    "\n",
    "model = dtc(criterion = 'entropy', max_depth = 6)\n",
    "model.fit(df1_X_train, df1_Y_train)\n",
    "\n",
    "pred_model = model.predict(df2_X_test)\n",
    "\n",
    "print ('Accuracy of the model is:', accuracy_score(df2_Y_test, pred_model) )"
   ]
  },
  {
   "cell_type": "markdown",
   "metadata": {
    "id": "s49gldX3nixH"
   },
   "source": [
    "## 3. Now consider arbitrary input data. Suppose that you decide to limit yourself to decision trees of height one, i.e., only one split. Is the tree produced by the information gain heuristic optimal on the training data (that is, no other decision tree has higher accuracy)?"
   ]
  },
  {
   "cell_type": "code",
   "execution_count": 315,
   "metadata": {
    "id": "grzpXUJAnsQU"
   },
   "outputs": [
    {
     "name": "stdout",
     "output_type": "stream",
     "text": [
      "df1_Y_train dimention:  (4712, 1)\n",
      "X dimnetion:  (4712, 22)\n",
      "Accuracy of the model is: 0.7256740914419695\n"
     ]
    }
   ],
   "source": [
    "df1_Y_train = df1['y'].values\n",
    "df1_Y_train = df1_Y_train.reshape(-1,1)\n",
    "print('df1_Y_train dimention: ',df1_Y_train.shape)\n",
    "df1_X_train = df1[['x1','x2','x3','x4','x5','x6','x7','x8','x9','x10','x11','x12','x13','x14','x15','x16','x17','x18','x19','x20','x21','x22']].values\n",
    "print('X dimnetion: ',df1_X_train.shape)\n",
    "\n",
    "df2_Y_test = df2['y'].values\n",
    "df2_Y_test = df2_Y_test.reshape(-1,1)\n",
    "\n",
    "df2_X_test = df2[['x1','x2','x3','x4','x5','x6','x7','x8','x9','x10','x11','x12','x13','x14','x15','x16','x17','x18','x19','x20','x21','x22']].values\n",
    "\n",
    "\n",
    "\n",
    "\n",
    "model = dtc(criterion = 'entropy', max_depth = 1)\n",
    "model.fit(df1_X_train, df1_Y_train)\n",
    "\n",
    "pred_model = model.predict(df2_X_test)\n",
    "\n",
    "print ('Accuracy of the model is:', accuracy_score(df2_Y_test, pred_model) )"
   ]
  },
  {
   "cell_type": "markdown",
   "metadata": {},
   "source": [
    "It is not optimal as the accuracy of the model is only 72.57%. The process of decision making can only be based on one attribute."
   ]
  },
  {
   "cell_type": "markdown",
   "metadata": {
    "id": "_MFc5JvygCaA"
   },
   "source": [
    "# Problem 4: Cross-Validation (20 pts)"
   ]
  },
  {
   "cell_type": "markdown",
   "metadata": {
    "id": "K2D-GaDAj9TU"
   },
   "source": [
    "Using a single tuning set for the hyperparameters can yield an unreliable predictor of the class\n",
    "label, i.e., maybe it was not a representative sample of the data, plus some data is \\wasted\" using\n",
    "this approach. An alternative approach that is particularly applicable for small data sets is $k$-fold\n",
    "cross-validation.\n",
    "\n",
    "1. Partition the non-test data into $k$ equally sized buckets.\n",
    "2. For each possible set of hyperparameters you will train the model using exactly $k-1$ of the\n",
    "partitions while the held out partition is used as a validation data set.\n",
    "3. As there are $k$ di\u000b",
    "erent ways to hold out one partition, all $k$ possibilities are tried and the\n",
    "average validation set accuracy (as measured by the appropriate held-out data) of the $k$\n",
    "different models learned for each of the hyperparameter settings is used to select the winning\n",
    "hyperparameters.\n",
    "4. Finally, the model is retrained using all of the non-test data with the winning hyperparameters\n",
    "and then evaluated using the test data."
   ]
  },
  {
   "cell_type": "markdown",
   "metadata": {
    "id": "0Znq7eFykCXL"
   },
   "source": [
    "Apply 10-fold cross validation to fit an SVM with slack classifier (no feature maps) to the data\n",
    "set wdbc train.data (each row corresponds to a single data observation and the class label +1/-1 is\n",
    "the first entry in each row). Use the same hyperparameter ranges as Problem 1.1 and the partitions\n",
    "for cross validation should be selected as equally sized contiguous blocks of data starting from the\n",
    "first data element. Report the best setting of the hyperparameters and the accuracy on the test\n",
    "set wdbc test.data."
   ]
  },
  {
   "cell_type": "code",
   "execution_count": 336,
   "metadata": {
    "id": "PtDZPfCQf7O2"
   },
   "outputs": [
    {
     "name": "stdout",
     "output_type": "stream",
     "text": [
      "     y      x1     x2      x3      x4       x5       x6        x7        x8  \\\n",
      "0   -1  11.250  14.78   71.38   390.0  0.08306  0.04458  0.000974  0.002941   \n",
      "1    1  19.400  23.50  129.10  1155.0  0.10270  0.15580  0.204900  0.088860   \n",
      "2    1  25.220  24.91  171.50  1878.0  0.10630  0.26650  0.333900  0.184500   \n",
      "3   -1  12.630  20.76   82.15   480.4  0.09933  0.12090  0.106500  0.060210   \n",
      "4   -1  12.160  18.03   78.29   455.3  0.09087  0.07838  0.029160  0.015270   \n",
      "..  ..     ...    ...     ...     ...      ...      ...       ...       ...   \n",
      "295  1  18.810  19.98  120.90  1102.0  0.08923  0.05884  0.080200  0.058430   \n",
      "296 -1   9.295  13.90   59.96   257.8  0.13710  0.12250  0.033320  0.024210   \n",
      "297  1  21.090  26.57  142.70  1311.0  0.11410  0.28320  0.248700  0.149600   \n",
      "298 -1   9.042  18.90   60.07   244.5  0.09968  0.19720  0.197500  0.049080   \n",
      "299 -1  14.060  17.18   89.75   609.1  0.08045  0.05361  0.026810  0.032510   \n",
      "\n",
      "         x9      x10  \n",
      "0    0.1773  0.06081  \n",
      "1    0.1978  0.06000  \n",
      "2    0.1829  0.06782  \n",
      "3    0.1735  0.07070  \n",
      "4    0.1464  0.06284  \n",
      "..      ...      ...  \n",
      "295  0.1550  0.04996  \n",
      "296  0.2197  0.07696  \n",
      "297  0.2395  0.07398  \n",
      "298  0.2330  0.08743  \n",
      "299  0.1641  0.05764  \n",
      "\n",
      "[300 rows x 11 columns]\n"
     ]
    }
   ],
   "source": [
    "import numpy as np\n",
    "import matplotlib.pyplot as plt\n",
    "import pandas as pd\n",
    "\n",
    "\n",
    "col_names = ['y','x1','x2','x3','x4','x5','x6','x7','x8','x9','x10']\n",
    "Q4TrainData =  pd.read_csv('wdbc_train.data', sep=\",\" ,names = col_names)\n",
    "\n",
    "print (Q4TrainData)"
   ]
  },
  {
   "cell_type": "code",
   "execution_count": 337,
   "metadata": {},
   "outputs": [
    {
     "name": "stdout",
     "output_type": "stream",
     "text": [
      "Y_train dimention:  (300, 1)\n",
      "X_train dimnetion:  (300, 10)\n"
     ]
    }
   ],
   "source": [
    "Y_train = Q4TrainData['y'].values\n",
    "Y_train = Y_train.reshape(-1,1)\n",
    "print('Y_train dimention: ',Y_train.shape)\n",
    "X_train = Q4TrainData[['x1','x2','x3','x4','x5','x6','x7','x8','x9','x10']].values\n",
    "print('X_train dimnetion: ',X_train.shape)"
   ]
  },
  {
   "cell_type": "code",
   "execution_count": 339,
   "metadata": {},
   "outputs": [
    {
     "name": "stdout",
     "output_type": "stream",
     "text": [
      "\n",
      "Current C:  0.0001\n",
      "w =  [0. 0. 0. 0. 0. 0. 0. 0. 0. 0.]\n",
      "b =  [-1.]\n",
      "Accuracy: 182\n",
      "\n",
      "Current C:  0.001\n",
      "w =  [0. 0. 0. 0. 0. 0. 0. 0. 0. 0.]\n",
      "b =  [-1.]\n",
      "Accuracy: 182\n",
      "\n",
      "Current C:  0.01\n",
      "w =  [0. 0. 0. 0. 0. 0. 0. 0. 0. 0.]\n",
      "b =  [-1.]\n",
      "Accuracy: 182\n",
      "\n",
      "Current C:  0.1\n",
      "w =  [0. 0. 0. 0. 0. 0. 0. 0. 0. 0.]\n",
      "b =  [-1.]\n",
      "Accuracy: 182\n",
      "\n",
      "Current C:  1.0\n",
      "w =  [0. 0. 0. 0. 0. 0. 0. 0. 0. 0.]\n",
      "b =  [-1.]\n",
      "Accuracy: 182\n",
      "\n",
      "Current C:  10.0\n",
      "w =  [0. 0. 0. 0. 0. 0. 0. 0. 0. 0.]\n",
      "b =  [-1.]\n",
      "Accuracy: 182\n",
      "\n",
      "Current C:  100.0\n",
      "w =  [0. 0. 0. 0. 0. 0. 0. 0. 0. 0.]\n",
      "b =  [-1.]\n",
      "Accuracy: 182\n",
      "\n",
      "Current C:  1000.0\n",
      "w =  [0. 0. 0. 0. 0. 0. 0. 0. 0. 0.]\n",
      "b =  [-1.]\n",
      "Accuracy: 182\n",
      "\n",
      "Current C:  10000.0\n",
      "w =  [0. 0. 0. 0. 0. 0. 0. 0. 0. 0.]\n",
      "b =  [-1.]\n",
      "Accuracy: 182\n"
     ]
    }
   ],
   "source": [
    "kernel_option = 'Polynomial'\n",
    "poly_case = 'Linear'\n",
    "dims = {'Linear':10}\n",
    "for C_Values in [1e-4, 1e-3, 1e-2, 1e-1, 1e0, 1e1, 1e2, 1e3, 1e4]:\n",
    "  print('\\nCurrent C: ',C_Values)\n",
    "  lambdas = SVM_with_Kernel(C_Values,X_train,Y_train,kernel_option, poly_case)\n",
    "\n",
    "  modified_X_train = np.zeros([Y_train.shape[0],dims[poly_case]])\n",
    "  for n in range(Y_train.shape[0]):\n",
    "    modified_X_train[n] = poly_func(X_train[n],poly_case)\n",
    "\n",
    "  w = ((Y_train * lambdas).T @ modified_X).reshape(-1,1);\n",
    "  S = (lambdas >= 0).flatten();\n",
    "  #print(S)\n",
    "  b = Y_train[S] - np.dot(modified_X_train[S], w);\n",
    "  #print('lambdas = ',lambdas[lambdas > 0])\n",
    "\n",
    "  Y_pred = modified_X.dot(w) + b[0]\n",
    "  print('w = ', w.flatten())\n",
    "  print('b = ', b[0])\n",
    "  res = sum([int(Y_train[i] == np.sign(Y_pred[i])) for i in range(Y_train.shape[0])])\n",
    "  print('Accuracy:', res)"
   ]
  }
 ],
 "metadata": {
  "colab": {
   "collapsed_sections": [],
   "name": "CS6375 HW2 Template_0224.ipynb",
   "provenance": []
  },
  "kernelspec": {
   "display_name": "Python 3 (ipykernel)",
   "language": "python",
   "name": "python3"
  },
  "language_info": {
   "codemirror_mode": {
    "name": "ipython",
    "version": 3
   },
   "file_extension": ".py",
   "mimetype": "text/x-python",
   "name": "python",
   "nbconvert_exporter": "python",
   "pygments_lexer": "ipython3",
   "version": "3.9.7"
  }
 },
 "nbformat": 4,
 "nbformat_minor": 1
}
