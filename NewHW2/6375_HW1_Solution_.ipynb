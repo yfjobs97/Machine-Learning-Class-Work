{
 "cells": [
  {
   "cell_type": "markdown",
   "metadata": {
    "id": "DizesMceSYhY"
   },
   "source": [
    "# Warm-up: Subgradients & More"
   ]
  },
  {
   "cell_type": "markdown",
   "metadata": {
    "id": "Q4fJwSEsSzjw"
   },
   "source": [
    "## 1. \n",
    "Recall that a function $f : \\mathbb{R}^{n} \\rightarrow \\mathbb{R}$ is convex if for all $x, y \\in \n",
    "\\mathbb{R}^n$ and $\\lambda \\in [0,1]$, $\\lambda f(x) + (1 −\n",
    "\\lambda)f(y) \\geq f(\\lambda x + (1 − \\lambda)y)$. Using this definition, show that "
   ]
  },
  {
   "cell_type": "markdown",
   "metadata": {
    "id": "yzBE5JlJTSLe"
   },
   "source": [
    "### a) \n",
    "$f(x) = wg(x)$ is a convex function for $x \\in \\mathbb{R}^n$ whenever $g : \\mathbb{R}^n \\rightarrow \\mathbb{R}$ is a convex\n",
    "function and $w\\geq 0$."
   ]
  },
  {
   "cell_type": "markdown",
   "metadata": {
    "id": "W1qp8bWaZzJU"
   },
   "source": [
    "\\begin{align}\n",
    "\\lambda f(x) + (1-\\lambda) f(y) &\\stackrel{(\\alpha)}{=} \\lambda w g(x) + (1-\\lambda)w g(y)\\\\\n",
    "&= w(\\lambda g(x) + (1-\\lambda)g(y))\\\\\n",
    "&\\stackrel{(\\beta)}{\\geq} wg(\\lambda x + (1-\\lambda)y)\\\\\n",
    "&\\stackrel{(\\alpha)}{=} f(\\lambda x + (1-\\lambda)y)\n",
    "\\end{align}\n",
    "\n",
    "$(\\alpha):$ $f(x) = wg(x)$\n",
    "\n",
    "$(\\beta):$ $g$ is convex. "
   ]
  },
  {
   "cell_type": "markdown",
   "metadata": {
    "id": "_Lfz4L85Ts_h"
   },
   "source": [
    "### b)\n",
    "$f(x) = f_1(x) + f_2(x)$ is a convex function for $x \\in \\mathbb{R}^n$ whenever $f_1 : \\mathbb{R}^n \\rightarrow \\mathbb{R}$ and $f_2 : \\mathbb{R}^n \\rightarrow \\mathbb{R}$ are convex functions."
   ]
  },
  {
   "cell_type": "markdown",
   "metadata": {
    "id": "5SVG3UpuZz8K"
   },
   "source": [
    "\\begin{align}\n",
    "\\lambda f(x) + (1-\\lambda) f(y) &\\stackrel{(\\alpha)}{=} \\lambda(f_1(x) + f_2(x)) + (1-\\lambda)(f_1(y) + f_2(y))\\\\\n",
    "&= \\lambda f_1(x) + (1-\\lambda)f_1(y) + \\lambda f_2(x) + (1-\\lambda) f_2(y)\\\\\n",
    "&\\stackrel{(\\beta)}{\\geq} f_1(\\lambda x + (1-\\lambda)y) + f_2(\\lambda x + (1-\\lambda)y)\\\\\n",
    "&\\stackrel{(\\alpha)}{=} f(\\lambda x + (1-\\lambda)y)\n",
    "\\end{align}\n",
    "\n",
    "$(\\alpha):$ $f(x) = f_1(x) + f_2(x)$\n",
    "\n",
    "$(\\beta):$ $f_1$ and $f_2$ are convex. \n",
    "\n"
   ]
  },
  {
   "cell_type": "markdown",
   "metadata": {
    "id": "R3FERiQuTtNQ"
   },
   "source": [
    "### c) \n",
    "$f(x) = \\max\\{f_1(x), f_2(x)\\}$ is a convex function for $x \\in \\mathbb{R}^n$ whenever $f_1 : \\mathbb{R}^n \\rightarrow \\mathbb{R}$ and $f_2 : \\mathbb{R}^n \\rightarrow \\mathbb{R}$ are convex functions."
   ]
  },
  {
   "cell_type": "markdown",
   "metadata": {
    "id": "S8u-AXQ8Z1DC"
   },
   "source": [
    "Substituting $f(x) = \\max\\{ f_1(x),f_2(x)\\}$ in the definition of convexity gives us \n",
    "$$\\lambda\\Big(\\max\\{f_1(x), f_2(x)\\}\\Big) + (1-\\lambda)\\Big(\\max\\{f_1(y), f_2(y)\\}\\Big) \\geq \\max\\Big\\{f_1(\\lambda x + (1-\\lambda y)) , f_2(\\lambda x + (1-\\lambda y))\\Big\\}.\n",
    "$$\n",
    "\n",
    "Since $f_1$ is convex we have\n",
    "\\begin{align}\n",
    "\\lambda\\Big(\\max\\{f_1(x), f_2(x)\\}\\Big) + (1-\\lambda)\\Big(\\max\\{f_1(y), f_2(y)\\}\\Big) &\\stackrel{(\\alpha)}{\\geq} \\lambda f_1(x) + (1-\\lambda)f_1(y)\\\\ &\\geq f_1(\\lambda x + (1-\\lambda y).\n",
    "\\end{align}\n",
    "$f_2$ is also convex. So\n",
    "\\begin{align}\n",
    "\\lambda\\Big(\\max\\{f_1(x), f_2(x)\\}\\Big) + (1-\\lambda)\\Big(\\max\\{f_1(y), f_2(y)\\}\\Big) &\\stackrel{(\\beta)}{\\geq} \\lambda f_2(x) + (1-\\lambda)f_2(y)\\\\ &\\geq f_2(\\lambda x + (1-\\lambda y).\n",
    "\\end{align}\n",
    "We conclude\n",
    "$$\\lambda\\Big(\\max\\{f_1(x), f_2(x)\\}\\Big) + (1-\\lambda)\\Big(\\max\\{f_1(y), f_2(y)\\}\\Big) \\geq \\max\\Big\\{f_1(\\lambda x + (1-\\lambda y)) , f_2(\\lambda x + (1-\\lambda y))\\Big\\}.\\\\\n",
    "$$\n",
    "\n",
    "$(\\alpha):$ $f_1(x) \\leq \\max\\{f_1(x),f_2(x)\\}$  and $f_1(y) \\leq \\max\\{f_1(y),f_2(y)\\}$\n",
    "\n",
    "$(\\beta):$ $f_2(x) \\leq \\max\\{f_1(x),f_2(x)\\}$  and $f_2(y) \\leq \\max\\{f_1(y),f_2(y)\\}$\n",
    "\n",
    "\n"
   ]
  },
  {
   "cell_type": "markdown",
   "metadata": {
    "id": "ddiLbTfCVFDJ"
   },
   "source": [
    "## 2.\n",
    "Compute a subgradient at the specified points for each of the following convex functions."
   ]
  },
  {
   "cell_type": "markdown",
   "metadata": {
    "id": "HFfkde2sVLsy"
   },
   "source": [
    "### a)\n",
    "(a) $f(x)=\\max\\{x^2-2x, \\left\\vert x\\right\\vert\\}$ at $x=0$, $x=-2$, and $x=1$\n"
   ]
  },
  {
   "cell_type": "markdown",
   "metadata": {
    "id": "Spxh-6aMAlFD"
   },
   "source": [
    "1. At $x=0$, $f(x)$ is not differentiable. Its subgradient may be any number in the interval $[-2,1]$.  \n",
    "  -2 is the derivative of $x^2 - 2x$ at x = 0. And 1 is the maximum possible subgradient of $|x|$ at x = 0.\n",
    "2. At $x = -2$, $f(x)$ is diffrentiable and $\\cfrac{\\partial f(x)}{\\partial x}\\big\\vert_{x = -2}\\ \\cfrac{\\partial}{\\partial x}(x^2 -2x)\\big\\vert_{x = -2} = 2x - 2\\big\\vert_{x = -2} = -6$.\n",
    "\n",
    "3. At $x = 1$, $f(x)$ is differentiable and $\\cfrac{\\partial f(x)}{\\partial x}\\big\\vert_{x = 1} = \\cfrac{\\partial \\vert x\\vert}{\\partial x}\\big\\vert_{x=1} = 1\\big\\vert_{x = 1} = 1$.\n"
   ]
  },
  {
   "cell_type": "code",
   "execution_count": 4,
   "metadata": {
    "colab": {
     "base_uri": "https://localhost:8080/",
     "height": 374
    },
    "id": "ufKikA3lzBHf",
    "outputId": "62c78f5a-a0d1-4f45-b2d7-d73cd25bc9bc"
   },
   "outputs": [
    {
     "data": {
      "image/png": "[encoded data removed]",
      "text/plain": [
       "<Figure size 1512x432 with 3 Axes>"
      ]
     },
     "metadata": {
      "needs_background": "light"
     },
     "output_type": "display_data"
    }
   ],
   "source": [
    "import matplotlib.pyplot as plt\n",
    "import numpy as np\n",
    "plt.figure(figsize=(21,6));\n",
    "\n",
    "plt.subplot(1,3,1);\n",
    "x = np.linspace(-2,2,100);\n",
    "plt.fill_between(x,-2*x,x,color = 'mistyrose',label = 'The area bounded by $y = -2x$ and $y = x$')\n",
    "l1 = plt.plot(x, x**2-2*x,'dimgray',label = '$x^{2} - 2x$');\n",
    "l2 = plt.plot(x, abs(x),'darkgray',label = '$|x|$');\n",
    "lm = plt.plot(x, np.maximum(x**2-2*x, abs(x)), '--', dashes = [2,3], linewidth = 4,label = 'f(x)');\n",
    "plt.plot(x,-2*x,'red',linewidth = 1);\n",
    "plt.plot(x,x,'red',linewidth = 1);\n",
    "plt.plot(0,0,'*r')\n",
    "plt.legend();\n",
    "plt.subplot(1,3,2);\n",
    "x = np.linspace(-3,0,100);\n",
    "l1 = plt.plot(x, x**2-2*x,'dimgray',label = '$x^{2} - 2x$');\n",
    "l2 = plt.plot(x, abs(x),'darkgray',label = '$|x|$');\n",
    "lm = plt.plot(x, np.maximum(x**2-2*x, abs(x)), '--', dashes = [2,3], linewidth = 4,label = 'f(x)');\n",
    "plt.plot(x[:70],-6*x[:70] - 4,'red',linewidth = 1,label = 'Tangent line: $y = -6x - 4$');\n",
    "plt.plot(-2,8,'*r');\n",
    "plt.legend();\n",
    "plt.subplot(1,3,3);\n",
    "x = np.linspace(-1,2,100);\n",
    "l1 = plt.plot(x, x**2-2*x,'dimgray',label = '$x^{2} - 2x$');\n",
    "l2 = plt.plot(x, abs(x),'darkgray',label = '$|x|$');\n",
    "lm = plt.plot(x, np.maximum(x**2-2*x, abs(x)), '--', dashes = [2,3], linewidth = 4,label = 'f(x)');\n",
    "plt.plot(x,x,'red',linewidth = 1,label = 'Tangent line: $y = x$');\n",
    "plt.plot(1,1,'*r');\n",
    "plt.legend();\n",
    "# plt.savefig('warm_2_a.png')"
   ]
  },
  {
   "cell_type": "markdown",
   "metadata": {
    "id": "wh7DufpIv5qt"
   },
   "source": [
    "### b)\n",
    "$g(x)=\\max\\{(x-1)^2,(x-2)^2\\}$ at $x=1.5$ and $x=0$"
   ]
  },
  {
   "cell_type": "markdown",
   "metadata": {
    "id": "8NjAwwxBG0ST"
   },
   "source": [
    "\n",
    "\n",
    "1.   At $x = 1.5$, $g(x)$ is not differentiable. Its subgradient can be chosen from $[-1,1]$.\n",
    "2.   At $x = 0$, $g(x)$ is differentiable and $\\cfrac{\\partial g(x)}{\\partial x}\\big\\vert_{x = 0} =\\cfrac{\\partial}{\\partial x}(x-2)^2\\big\\vert_{x=0}= 2(x-2)\\big\\vert_{x = 0} = -4.$\n",
    "\n"
   ]
  },
  {
   "cell_type": "code",
   "execution_count": 5,
   "metadata": {
    "colab": {
     "base_uri": "https://localhost:8080/",
     "height": 374
    },
    "id": "um2s9y-8D0SQ",
    "outputId": "204a6038-6156-4e9e-92cb-ed1c1107f129"
   },
   "outputs": [
    {
     "data": {
      "image/png": "[encoded data removed]",
      "text/plain": [
       "<Figure size 1008x432 with 2 Axes>"
      ]
     },
     "metadata": {
      "needs_background": "light"
     },
     "output_type": "display_data"
    }
   ],
   "source": [
    "import matplotlib.pyplot as plt\n",
    "import numpy as np\n",
    "plt.figure(figsize=(14,6));\n",
    "\n",
    "plt.subplot(1,2,1);\n",
    "x = np.linspace(-3,3,100);\n",
    "plt.fill_between(x,x - 1.25,-x + 1.75,color = 'mistyrose',label = 'The area bounded by $y = x+1.75$ and $y = -x - 1.25$')\n",
    "l1 = plt.plot(x, (x-1)**2,'dimgray',label = '$(x-1)^2$');\n",
    "l2 = plt.plot(x, (x-2)**2,'silver',label = '$(x-2)^2$');\n",
    "lm = plt.plot(x, np.maximum((x-1)**2,(x-2)**2), '--', dashes = [2,3], linewidth = 4,label = 'g(x)');\n",
    "plt.plot(x,x - 1.25,'red',linewidth = 1);\n",
    "plt.plot(x,-x + 1.75,'red',linewidth = 1);\n",
    "plt.plot(1.5,0.25,'*r');\n",
    "plt.legend();\n",
    "plt.subplot(1,2,2);\n",
    "x = np.linspace(-2,2,100);\n",
    "l1 = plt.plot(x, (x-1)**2,'dimgray',label = '$(x-1)^2$');\n",
    "l2 = plt.plot(x, (x-2)**2,'silver',label = '$(x-2)^2$');\n",
    "lm = plt.plot(x, np.maximum((x-1)**2,(x-2)**2), '--', dashes = [2,3], linewidth = 4,label = 'g(x)');\n",
    "plt.plot(x,-4*x+4,'red',linewidth = 1,label = 'Tangent line: $-4x+4$');\n",
    "plt.plot(0,4,'*r')\n",
    "plt.legend();\n"
   ]
  },
  {
   "cell_type": "markdown",
   "metadata": {
    "id": "kZANUcP1VXpH"
   },
   "source": [
    "# Problem 1: Perceptron Learning\n",
    "\n",
    "Consider the data set (perceptron.data) attached to this homework. This data file consists of $M$ data elements of the form $(x_1^{(m)}, x_2^{(m)}, x_3^{(m)}, x_4^{(m)}, y^{(m)})$ where $x_1^{(m)}, \\ldots, x_4^{(m)}\\in\\mathbb{R}$ define a data point in $\\mathbb{R}^4$ and $y^{(m)}\\in\\{-1,1\\}$  is the corresponding class label."
   ]
  },
  {
   "cell_type": "markdown",
   "metadata": {
    "id": "-Lpvpj5JVjh5"
   },
   "source": [
    "##1.\n",
    "In class we saw how to use the perceptron algorithm to minimize the following loss function. $$f(w,b) = \\frac{1}{M}\\sum_{m=1}^{M}\\max\\{0,-y^{(m)}\\cdot(w^Tx^{(m)}+b)\\}$$ What is the smallest, in terms of number of data points, two-dimensional data set containing both class labels on which the perceptron algorithm, with step size one, fails to converge? Use this example to explain why the method may fail to converge more generally.\n",
    "\n"
   ]
  },
  {
   "cell_type": "markdown",
   "metadata": {
    "id": "UCjAYZl7gHvq"
   },
   "source": [
    "Two points at one exact location are not seperable. So the algorithm fails to provide us with a linear seperator. However, if the data set is required to be seprable, we can take three points on one line such that the point in the middle belongs to a different class than the other two. Note that the main point of this question is that the step size does not matter. "
   ]
  },
  {
   "cell_type": "markdown",
   "metadata": {
    "id": "xmXhOlV1cwQA"
   },
   "source": [
    "$$\\frac{\\partial f(w,b)}{\\partial w_i} = \\frac{1}{M}\\sum_{m=1}^{M}\\begin{cases} 0 & - y^{(m)}\\cdot(w^T x^{(m)}+ b) < 0 \\\\ -y^{(m)}x^{(m)}_i & - y^{(m)}\\cdot(w^T x^{(m)}+ b) > 0  \\\\ 0^{(*)}& - y^{(m)}\\cdot(w^T x^{(m)}+ b) = 0\\end{cases}$$\n",
    "\n",
    "\n",
    "$$\\nabla_w f(w,b) = [\\frac{\\partial f(w,b)}{\\partial w_1},\\dots,\\frac{\\partial f(w,b)}{\\partial w_4}]$$\n",
    "\n",
    "$$\\nabla_w f(w,b) = \\frac{1}{M}\\sum_{m=1}^{M} \\begin{cases} 0 & - y^{(m)}\\cdot(w^T x^{(m)} + b) < 0 \\\\ -y^{(m)}x^{(m)} & - y^{(m)}\\cdot(w^T x^{(m)}+ b) > 0 \\\\ 0& - y^{(m)}\\cdot(w^T x^{(m)}+ b) = 0\\end{cases}$$\n",
    "\n",
    "$(*)$ the function is not differentiable at this point and its subgradient can be anything between $0$ and $-y^{(m)}x^{(m)}_i$. $0$ is just the easiest one to pick.  \n",
    "\n",
    "\n",
    "$$\\frac{\\partial f(w,b)}{\\partial b} = \\frac{1}{M}\\sum_{m=1}^{M}\\begin{cases}0 & - y^{(m)}\\cdot(w^T x^{(m)}+ b) < 0 \\\\ -y^{(m)} & - y^{(m)}\\cdot(w^T x^{(m)}+ b) > 0  \\\\  0^{(**)}& - y^{(m)}\\cdot(w^T x^{(m)}+ b) = 0\\end{cases}$$\n",
    "\n",
    "\n",
    "$$\\nabla_b f(w,b) = [\\frac{\\partial f(w,b)}{\\partial b}]$$\n",
    "\n",
    "$(**)$ the function is not differentiable at this point and its subgradient can be anything between $0$ and $-y^{(m)}$. $0$ is just the easiest one to pick.  \n"
   ]
  },
  {
   "cell_type": "markdown",
   "metadata": {
    "id": "lTZxSXc80W7S"
   },
   "source": [
    "##2.\n",
    "Consider the following alternative loss function. $$g(w,b) = \\frac{1}{M}\\sum_{m=1}^{M}\\max\\{0,1-y^{(m)}\\cdot(w^Tx^{(m)}+b)\\}^2$$\n"
   ]
  },
  {
   "cell_type": "markdown",
   "metadata": {
    "id": "L6BQYti6ybIc"
   },
   "source": [
    "\n",
    "###(a)\n",
    "If the data is linearly separable, does this loss function have any local optima that are not global optima?"
   ]
  },
  {
   "cell_type": "markdown",
   "metadata": {
    "id": "GK5UOraInIZp"
   },
   "source": [
    "No. We argue that this objective function is convex, hence does not have a local optima that is not a global minimum. In order to prove this argument, we go through the following three steps, each based on known facts that we have already seen. \n",
    "\n",
    "1.   Maximum of convex functions is convex ($g(x) = \\max\\{f_1(x) + f_2(x)\\}$).\n",
    "\n",
    "  $0$ and $1-y^{(m)}\\cdot(w^T x^{(m)} + b)$ are both linear functions. Linear functions are convex, so as the function $\\max\\{0,1-y^{(m)}\\cdot(w^T x^{(m)} + b)\\}$. (Linear functions are also concave)\n",
    "\n",
    "\n",
    "\n",
    "2.   Composition of convex functions is convex ($g(x) = f_1(f_2(x))$).\n",
    "\n",
    "  The function $\\max\\{0,1-y^{(m)}\\cdot(w^T x^{(m)} + b)\\}^2$ is obtained from composing $\\max\\{0,1-y^{(m)}\\cdot(w^T x^{(m)} + b)\\}$ in $x^2$. In 1. we showed that $\\max\\{0,1-y^{(m)}\\cdot(w^T x^{(m)} + b)\\}$ is convex. And $x^2$ is convex indeed. So $\\max\\{0,1-y^{(m)}\\cdot(w^T x^{(m)} + b)\\}^2$ is convex.\n",
    "\n",
    "\n",
    "\n",
    "\n",
    "\n",
    "3.   Summation of convex functions is convex ($f(x) = f_1(x) + f_2(x)$).\n",
    "\n",
    "  In 2. we showed that $\\max\\{0,1-y^{(m)}\\cdot(w^T x^{(m)} + b)\\}^2$ is convex, regardless of $m$. This shows that $\\sum_{m=1}^{M}\\max\\{0,1-y^{(m)}\\cdot(w^Tx^{(m)}+b)\\}^2$ is convex and this wraps the proof. \n",
    "\n",
    "\n",
    "\n",
    "\n",
    "\n",
    "\n"
   ]
  },
  {
   "cell_type": "markdown",
   "metadata": {
    "id": "hnCwzH3A1GuC"
   },
   "source": [
    "###(b)\n",
    "\n",
    "For each optimization strategy below, report the number of iterations that it takes to find a perfect classifier for the data, the values of w and b for the first three iterations, and the final weights and bias. Each descent procedure should start from the initial point $$\n",
    "w^0 = \\left[\n",
    "    \\begin{array}\\\\\n",
    "        0 \\\\\n",
    "        0 \\\\\n",
    "        0 \\\\\n",
    "        0 \\\\\n",
    "    \\end{array}\n",
    "\\right] \n",
    "\\qquad b^0=0\n",
    "$$"
   ]
  },
  {
   "cell_type": "code",
   "execution_count": 1,
   "metadata": {
    "colab": {
     "base_uri": "https://localhost:8080/"
    },
    "id": "Ld1IfmAgWpkC",
    "outputId": "fc01bd6f-bed3-44f1-a2f3-f7b53c0351e8"
   },
   "outputs": [
    {
     "name": "stdout",
     "output_type": "stream",
     "text": [
      "           x1        x2        x3        x4  y\n",
      "0   -4.617544 -2.469679 -1.967661  1.813356 -1\n",
      "1   -1.110969 -2.592820  1.149165  0.572509 -1\n",
      "2    1.164321  2.300245 -0.660355  2.833743 -1\n",
      "3   -2.518213 -3.619048  1.673304  0.030407 -1\n",
      "4    4.821442  2.037048  2.348538 -1.683379  1\n",
      "..        ...       ...       ...       ... ..\n",
      "994  2.253275  0.877464  3.710523 -4.829729  1\n",
      "995 -4.783584  2.355449 -3.460199 -3.760533 -1\n",
      "996 -0.102361 -1.405714  0.379720 -4.648531  1\n",
      "997  2.256090  0.495370  0.790985  1.854742 -1\n",
      "998 -1.023419  4.061322  0.148172  2.572487 -1\n",
      "\n",
      "[999 rows x 5 columns]\n"
     ]
    }
   ],
   "source": [
    "import numpy as np\n",
    "import pandas as pd\n",
    "import sys, os\n",
    "# reading csv files\n",
    "col_names = ['x1','x2','x3','x4','y']\n",
    "#!wget -nc https://personal.utdallas.edu/~shahab.shams/files/ML_Spring_2021/perceptron.data\n",
    "data =  pd.read_csv('perceptron.data', sep=\",\" , names = col_names)\n",
    "print(data)"
   ]
  },
  {
   "cell_type": "code",
   "execution_count": 2,
   "metadata": {
    "colab": {
     "base_uri": "https://localhost:8080/"
    },
    "id": "R0fiVeR7bL1T",
    "outputId": "04653386-c5b9-4181-b9ee-405b0ba26bcc"
   },
   "outputs": [
    {
     "name": "stdout",
     "output_type": "stream",
     "text": [
      "Y dimention:  (999,)\n",
      "X dimnetion:  (999, 4)\n"
     ]
    }
   ],
   "source": [
    "Y = data['y'].values\n",
    "print('Y dimention: ',Y.shape)\n",
    "X = data[['x1','x2','x3','x4']].values\n",
    "print('X dimnetion: ',X.shape)"
   ]
  },
  {
   "cell_type": "code",
   "execution_count": 3,
   "metadata": {
    "id": "Mz0gLeM-AXvA"
   },
   "outputs": [],
   "source": [
    "def test(w,b):\n",
    "  Y_pred = np.sign(X.dot(w) + b)\n",
    "  error = sum([int(Y[i] != Y_pred[i]) for i in range(len(Y))])\n",
    "  # print(error,' missclassified out of ',Y.shape[0], 'total.\\n')\n",
    "  return error"
   ]
  },
  {
   "cell_type": "markdown",
   "metadata": {
    "id": "zMEHiqyL3L3J"
   },
   "source": [
    "####i. \n",
    "Standard subgradient descent with the step size $\\gamma_t = 1$ for each iteration."
   ]
  },
  {
   "cell_type": "markdown",
   "metadata": {
    "id": "eNOfxVlYeutT"
   },
   "source": [
    "$$\\frac{\\partial g(w,b)}{\\partial w_i} = \\frac{1}{M}\\sum_{m=1}^{M}\\begin{cases} 0 & 1 - y^{(m)}\\cdot(w^T x^{(m)}+ b) < 0 \\\\ -2y^{(m)}x^{(m)}_i(1 - y^{m}\\cdot(w^T x^{(m)} +b)) & 1 - y^{(m)}\\cdot(w^T x^{(m)}+ b) > 0  \\\\ 0^{(*)}& 1 - y^{(m)}\\cdot(w^T x^{(m)}+ b) = 0\\end{cases}$$\n",
    "\n",
    "\n",
    "$$\\nabla_w g(w,b) = [\\frac{\\partial g(w,b)}{\\partial w_1},\\dots,\\frac{\\partial g(w,b)}{\\partial w_4}]$$\n",
    "\n",
    "$$\\nabla_w g(w,b) = \\frac{1}{M}\\sum_{m=1}^{M} \\begin{cases} 0 & 1 - y^{(m)}\\cdot(w^T x^{(m)} + b) < 0 \\\\ -2y^{(m)}x^{(m)}(1-y^{(m)}\\cdot(w^Tx^{(m)} + b)) & 1 - y^{(m)}\\cdot(w^T x^{(m)}+ b) > 0 \\\\ 0& 1 - y^{(m)}\\cdot(w^T x^{(m)}+ b) = 0\\end{cases}$$\n",
    "\n",
    "$(*)$ $g(w,b)$ is not differentiable at this point and its subgradient can be anything between $0$ and $-2y^{(m)}x^{(m)}_i(1 - y^{m}\\cdot(w^T x^{(m)} +b))$. $0$ is just the easiest to pick.  \n",
    "\n",
    "\n",
    "----\n",
    "\n",
    "$$\\frac{\\partial g(w,b)}{\\partial b} = \\frac{1}{M}\\sum_{m=1}^{M}\\begin{cases}0 & 1 - y^{(m)}\\cdot(w^T x^{(m)}+ b) < 0 \\\\ -2y^{(m)}\\cdot(1 - y^{m}(w^T x^{(m)} +b)) & 1 - y^{(m)}\\cdot(w^T x^{(m)}+ b) > 0  \\\\  0^{(**)}& 1 - y^{(m)}\\cdot(w^T x^{(m)}+ b) = 0\\end{cases}$$\n",
    "\n",
    "\n",
    "$$\\nabla_b g(w,b) = [\\frac{\\partial g(w,b)}{\\partial b}]$$\n",
    "\n",
    "$(**)$ $g(w,b)$ is not differentiable at this point and its subgradient can be anything between $0$ and $-2y^{(m)}\\cdot(1 - y^{m}(w^T x^{(m)} +b))$. $0$ is just the easiest to pick.  \n"
   ]
  },
  {
   "cell_type": "code",
   "execution_count": 4,
   "metadata": {
    "id": "e0zhqFwFdKtx"
   },
   "outputs": [],
   "source": [
    "def get_gradient_standard(w,b):\n",
    "  g_w = np.zeros([1,4])\n",
    "  g_b = 0\n",
    "  for m in range(Y.shape[0]):\n",
    "    if 1 - Y[m]*(X[m].dot(w) + b) > 0:\n",
    "      g_w += -2 * Y[m] * X[m] * (1 - Y[m]*(X[m].dot(w) + b))\n",
    "      g_b += -2 * Y[m] * (1 - Y[m]*(X[m].dot(w) + b))\n",
    "    if 1 - Y[m]*(X[m].dot(w) + b) < 0:\n",
    "      g_w += 0\n",
    "      g_b += 0\n",
    "    if 1 - Y[m]*(X[m].dot(w) + b) == 0:\n",
    "      g_w += 0\n",
    "      g_b += 0\n",
    "  return [g_w/Y.shape[0],g_b/Y.shape[0]]"
   ]
  },
  {
   "cell_type": "code",
   "execution_count": 6,
   "metadata": {
    "id": "G2EEYwaDbsTx"
   },
   "outputs": [],
   "source": [
    "from progressbar import ProgressBar\n",
    "def standard_gradient_descent(w,b,itrs,step_size = 1):\n",
    "  pbar = ProgressBar()\n",
    "  for it in pbar(range(itrs)):\n",
    "    [g_w,g_b] = get_gradient_standard(w,b)\n",
    "    w = w - step_size * g_w.T\n",
    "    b = b - step_size * g_b\n",
    "\n",
    "    if True in np.isnan(w) or True in np.isnan(b):\n",
    "      print('\\nNubmer of iterations: ', it)\n",
    "      print('\\n !!Overflow!! \\n')\n",
    "      return [w,b]\n",
    "\n",
    "    if it % 250 == 0:\n",
    "      print('\\nw: ',w.T)\n",
    "      print('b: ',b)\n",
    "      print(test(w,b),' missclassified out of ',Y.shape[0], 'total.\\n')\n",
    "    if test(w,b) == 0:\n",
    "      print('\\nw: ',w.T)\n",
    "      print('b: ',b)\n",
    "      print(test(w,b),' missclassified out of ',Y.shape[0], 'total.\\n')\n",
    "      print('Nubmer of iterations: ', it)\n",
    "      return [w,b]\n",
    "\n",
    "  return [w,b]"
   ]
  },
  {
   "cell_type": "code",
   "execution_count": 7,
   "metadata": {
    "colab": {
     "base_uri": "https://localhost:8080/"
    },
    "id": "ZTZgvlyEIKFR",
    "outputId": "bf351274-a180-4848-f309-2bf558493a54"
   },
   "outputs": [
    {
     "name": "stderr",
     "output_type": "stream",
     "text": [
      "  1% |                                                                        |\r"
     ]
    },
    {
     "name": "stdout",
     "output_type": "stream",
     "text": [
      "\n",
      "w:  [[ 2.5593007   0.91720162 -0.21666124 -3.34649272]]\n",
      "b:  [-0.71071071]\n",
      "139  missclassified out of  999 total.\n",
      "\n"
     ]
    },
    {
     "name": "stderr",
     "output_type": "stream",
     "text": [
      " 26% |##################                                                      |\r"
     ]
    },
    {
     "name": "stdout",
     "output_type": "stream",
     "text": [
      "\n",
      "w:  [[-1.60154178e+194 -4.73082015e+193  5.04759139e+193 -3.22875102e+194]]\n",
      "b:  [-5.79908935e+193]\n",
      "357  missclassified out of  999 total.\n",
      "\n"
     ]
    },
    {
     "name": "stderr",
     "output_type": "stream",
     "text": [
      " 39% |############################                                            |\r"
     ]
    },
    {
     "name": "stdout",
     "output_type": "stream",
     "text": [
      "\n",
      "Nubmer of iterations:  393\n",
      "\n",
      " !!Overflow!! \n",
      "\n"
     ]
    },
    {
     "name": "stderr",
     "output_type": "stream",
     "text": [
      "C:\\Users\\Marco\\AppData\\Local\\Temp/ipykernel_21460/3533707172.py:6: RuntimeWarning: overflow encountered in add\n",
      "  g_w += -2 * Y[m] * X[m] * (1 - Y[m]*(X[m].dot(w) + b))\n",
      "C:\\Users\\Marco\\AppData\\Local\\Temp/ipykernel_21460/3533707172.py:6: RuntimeWarning: invalid value encountered in add\n",
      "  g_w += -2 * Y[m] * X[m] * (1 - Y[m]*(X[m].dot(w) + b))\n",
      "C:\\Users\\Marco\\AppData\\Local\\Temp/ipykernel_21460/3533707172.py:7: RuntimeWarning: invalid value encountered in add\n",
      "  g_b += -2 * Y[m] * (1 - Y[m]*(X[m].dot(w) + b))\n",
      "C:\\Users\\Marco\\AppData\\Local\\Temp/ipykernel_21460/2662125951.py:6: RuntimeWarning: invalid value encountered in subtract\n",
      "  w = w - step_size * g_w.T\n"
     ]
    }
   ],
   "source": [
    "def standard(itrs = 1000,step_size = 1):\n",
    "  w = np.zeros([4,1])\n",
    "  b = 0\n",
    "  [w,b] = standard_gradient_descent(w,b,itrs,step_size)\n",
    "\n",
    "standard()"
   ]
  },
  {
   "cell_type": "markdown",
   "metadata": {
    "id": "Ky8_umWO3dZx"
   },
   "source": [
    "####ii. \n",
    "Stochastic subgradient descent where exactly one component of the sum is chosen to approximate the gradient at each iteration. Instead of picking a random component at each iteration, you should iterate through the data set starting with the first element, then the second, and so on until the $M^{th}$ element, at which point you should start back at the beginning again. Again, use the step size $\\gamma_t = 1$."
   ]
  },
  {
   "cell_type": "code",
   "execution_count": null,
   "metadata": {
    "id": "nVwaszplVNqb"
   },
   "outputs": [],
   "source": [
    "def get_gradient_stochastic(w,b,m):\n",
    "  g_w = np.zeros([1,4])\n",
    "  g_b = 0\n",
    "  if 1 - Y[m]*(X[m].dot(w) + b) > 0:\n",
    "    g_w += -2 * Y[m] * X[m] * (1 - Y[m]*(X[m].dot(w) + b))\n",
    "    g_b += -2 * Y[m] * (1 - Y[m]*(X[m].dot(w) + b))\n",
    "  if 1 - Y[m]*(X[m].dot(w) + b) < 0:\n",
    "    g_w += 0\n",
    "    g_b += 0\n",
    "  if 1 - Y[m]*(X[m].dot(w) + b) == 0:\n",
    "    g_w += 0\n",
    "    g_b += 0\n",
    "  return [g_w/Y.shape[0],g_b/Y.shape[0]]"
   ]
  },
  {
   "cell_type": "code",
   "execution_count": null,
   "metadata": {
    "id": "2enTiveEtMlf"
   },
   "outputs": [],
   "source": [
    "from progressbar import ProgressBar\n",
    "def stochastic_gradient_descent(w,b,itrs,step_size = 1):\n",
    "  pbar = ProgressBar()\n",
    "  for it in pbar(range(itrs)):\n",
    "    for m in range(Y.shape[0]):\n",
    "      [g_w,g_b] = get_gradient_stochastic(w,b,m)\n",
    "      w = w - step_size * g_w.T\n",
    "      b = b - step_size * g_b\n",
    "\n",
    "\n",
    "      if True in np.isnan(w) or True in np.isnan(b):\n",
    "        print('\\nNubmer of iterations: ', it)\n",
    "        print('!!Overflow!!')\n",
    "        return [w,b]\n",
    "      if m == 0 and it%250 == 0:\n",
    "        print('\\nw: ',w.T)\n",
    "        print('b: ',b)\n",
    "        print(test(w,b),' missclassified out of ',Y.shape[0], 'total.\\n')\n",
    "      if m== 0 and test(w,b)  == 0:\n",
    "        print('\\nw: ',w.T)\n",
    "        print('b: ',b)\n",
    "        print(test(w,b),' missclassified out of ',Y.shape[0], 'total.\\n')\n",
    "        print('Nubmer of epochs: ', it)\n",
    "        print('Nubmer of iterations: ', it*Y.shape[0])\n",
    "        return [w,b]\n",
    "  return [w,b]"
   ]
  },
  {
   "cell_type": "code",
   "execution_count": null,
   "metadata": {
    "colab": {
     "base_uri": "https://localhost:8080/"
    },
    "id": "fltb_heUVkTv",
    "outputId": "59d8ecea-3a95-4194-982d-728dc4e7e9e3"
   },
   "outputs": [
    {
     "name": "stderr",
     "output_type": "stream",
     "text": [
      "  0% (1 of 1000) |                       | Elapsed Time: 0:00:00 ETA:   0:02:05"
     ]
    },
    {
     "name": "stdout",
     "output_type": "stream",
     "text": [
      "\n",
      "w:  [[ 0.00924433  0.0049443   0.00393926 -0.00363034]]\n",
      "b:  [-0.002002]\n",
      "216  missclassified out of  999 total.\n",
      "\n"
     ]
    },
    {
     "name": "stderr",
     "output_type": "stream",
     "text": [
      " 25% (251 of 1000) |#####                | Elapsed Time: 0:00:13 ETA:   0:00:41"
     ]
    },
    {
     "name": "stdout",
     "output_type": "stream",
     "text": [
      "\n",
      "w:  [[ 1.66237357  0.58135843  0.01358617 -1.90717079]]\n",
      "b:  [-3.54927803]\n",
      "2  missclassified out of  999 total.\n",
      "\n"
     ]
    },
    {
     "name": "stderr",
     "output_type": "stream",
     "text": [
      " 50% (502 of 1000) |##########           | Elapsed Time: 0:00:26 ETA:   0:00:26"
     ]
    },
    {
     "name": "stdout",
     "output_type": "stream",
     "text": [
      "\n",
      "w:  [[ 2.09009769  0.73349196  0.01451216 -2.40140247]]\n",
      "b:  [-4.52517327]\n",
      "1  missclassified out of  999 total.\n",
      "\n"
     ]
    },
    {
     "name": "stderr",
     "output_type": "stream",
     "text": [
      " 72% (726 of 1000) |###############      | Elapsed Time: 0:00:38 ETA:   0:00:13"
     ]
    },
    {
     "name": "stdout",
     "output_type": "stream",
     "text": [
      "\n",
      "w:  [[ 2.38483517  0.83847153  0.01542512 -2.744536  ]]\n",
      "b:  [-5.20026137]\n",
      "0  missclassified out of  999 total.\n",
      "\n",
      "Nubmer of epochs:  728\n",
      "Nubmer of iterations:  727272\n"
     ]
    }
   ],
   "source": [
    "def stochastic():\n",
    "  w = np.zeros([4,1])\n",
    "  b = 0\n",
    "  itrs = 1000\n",
    "  [w,b] = stochastic_gradient_descent(w,b,itrs)\n",
    "\n",
    "\n",
    "stochastic()"
   ]
  },
  {
   "cell_type": "markdown",
   "metadata": {
    "id": "SHw3FIPy3ygR"
   },
   "source": [
    "####iii. \n",
    "How does the rate of convergence change as you change the step size? Provide some example step sizes to back up your statements."
   ]
  },
  {
   "cell_type": "markdown",
   "metadata": {
    "id": "M9Ev_SEtBWTp"
   },
   "source": [
    "Large step sizes may result in the algorithm to diverge. So, one might think that taking a very small step size is alway the best starategy. However, too small step sizes take too long converge, trivially because the update at each iteration is too small. And if the objective function has local optimas, too small step sizes increase the change of stucking in a local optimum. "
   ]
  },
  {
   "cell_type": "code",
   "execution_count": 8,
   "metadata": {
    "colab": {
     "base_uri": "https://localhost:8080/"
    },
    "id": "ufqfzYb1s48C",
    "outputId": "92b70a92-9be7-4ff9-c7ca-de6144570b21"
   },
   "outputs": [
    {
     "name": "stderr",
     "output_type": "stream",
     "text": [
      "  0% |                                                                        |\r"
     ]
    },
    {
     "name": "stdout",
     "output_type": "stream",
     "text": [
      "\n",
      "\n",
      "with the step size:  0.5\n",
      "\n",
      "w:  [[ 1.27965035  0.45860081 -0.10833062 -1.67324636]]\n",
      "b:  [-0.35535536]\n",
      "139  missclassified out of  999 total.\n",
      "\n"
     ]
    },
    {
     "name": "stderr",
     "output_type": "stream",
     "text": [
      "  5% |###                                                                     |\r"
     ]
    },
    {
     "name": "stdout",
     "output_type": "stream",
     "text": [
      "\n",
      "w:  [[-9.69660439e+82 -1.01460389e+82  2.57977238e+82 -2.62180084e+83]]\n",
      "b:  [-8.07711061e+82]\n",
      "318  missclassified out of  999 total.\n",
      "\n"
     ]
    },
    {
     "name": "stderr",
     "output_type": "stream",
     "text": [
      " 10% |#######                                                                 |\r"
     ]
    },
    {
     "name": "stdout",
     "output_type": "stream",
     "text": [
      "\n",
      "w:  [[-1.14390531e+168 -1.19692495e+167  3.04334920e+167 -3.09293004e+168]]\n",
      "b:  [-9.52854147e+167]\n",
      "318  missclassified out of  999 total.\n",
      "\n"
     ]
    },
    {
     "name": "stderr",
     "output_type": "stream",
     "text": [
      " 15% |##########                                                              |\r"
     ]
    },
    {
     "name": "stdout",
     "output_type": "stream",
     "text": [
      "\n",
      "w:  [[-1.34946142e+253 -1.41200853e+252  3.59022928e+252 -3.64871964e+253]]\n",
      "b:  [-1.12407898e+253]\n",
      "318  missclassified out of  999 total.\n",
      "\n"
     ]
    },
    {
     "name": "stderr",
     "output_type": "stream",
     "text": [
      "C:\\Users\\Marco\\AppData\\Local\\Temp/ipykernel_21460/3533707172.py:6: RuntimeWarning: overflow encountered in add\n",
      "  g_w += -2 * Y[m] * X[m] * (1 - Y[m]*(X[m].dot(w) + b))\n",
      "C:\\Users\\Marco\\AppData\\Local\\Temp/ipykernel_21460/3533707172.py:6: RuntimeWarning: invalid value encountered in add\n",
      "  g_w += -2 * Y[m] * X[m] * (1 - Y[m]*(X[m].dot(w) + b))\n",
      "C:\\Users\\Marco\\AppData\\Local\\Temp/ipykernel_21460/3533707172.py:7: RuntimeWarning: invalid value encountered in add\n",
      "  g_b += -2 * Y[m] * (1 - Y[m]*(X[m].dot(w) + b))\n",
      "C:\\Users\\Marco\\AppData\\Local\\Temp/ipykernel_21460/2662125951.py:6: RuntimeWarning: invalid value encountered in subtract\n",
      "  w = w - step_size * g_w.T\n",
      "  0% |                                                                        |\r"
     ]
    },
    {
     "name": "stdout",
     "output_type": "stream",
     "text": [
      "\n",
      "Nubmer of iterations:  902\n",
      "\n",
      " !!Overflow!! \n",
      "\n",
      "\n",
      "\n",
      "with the step size:  0.4\n",
      "\n",
      "w:  [[ 1.02372028  0.36688065 -0.08666449 -1.33859709]]\n",
      "b:  [-0.28428428]\n",
      "139  missclassified out of  999 total.\n",
      "\n"
     ]
    },
    {
     "name": "stderr",
     "output_type": "stream",
     "text": [
      "  5% |###                                                                     |\r"
     ]
    },
    {
     "name": "stdout",
     "output_type": "stream",
     "text": [
      "\n",
      "w:  [[ 1.30158345  0.4466716   0.01647827 -1.48994717]]\n",
      "b:  [-2.74385917]\n",
      "3  missclassified out of  999 total.\n",
      "\n"
     ]
    },
    {
     "name": "stderr",
     "output_type": "stream",
     "text": [
      " 10% |#######                                                                 |\r"
     ]
    },
    {
     "name": "stdout",
     "output_type": "stream",
     "text": [
      "\n",
      "w:  [[ 1.56173303  0.53484349  0.01730492 -1.79062651]]\n",
      "b:  [-3.3286149]\n",
      "3  missclassified out of  999 total.\n",
      "\n"
     ]
    },
    {
     "name": "stderr",
     "output_type": "stream",
     "text": [
      " 15% |##########                                                              |\r"
     ]
    },
    {
     "name": "stdout",
     "output_type": "stream",
     "text": [
      "\n",
      "w:  [[ 1.76207883  0.60528038  0.01723191 -2.02081289]]\n",
      "b:  [-3.781651]\n",
      "1  missclassified out of  999 total.\n",
      "\n"
     ]
    },
    {
     "name": "stderr",
     "output_type": "stream",
     "text": [
      "  0% |                                                                        |\r"
     ]
    },
    {
     "name": "stdout",
     "output_type": "stream",
     "text": [
      "\n",
      "w:  [[ 1.85119502  0.63709045  0.01662308 -2.12430955]]\n",
      "b:  [-3.98553004]\n",
      "0  missclassified out of  999 total.\n",
      "\n",
      "Nubmer of iterations:  878\n",
      "\n",
      "\n",
      "with the step size:  0.2\n",
      "\n",
      "w:  [[ 0.51186014  0.18344032 -0.04333225 -0.66929854]]\n",
      "b:  [-0.14214214]\n",
      "139  missclassified out of  999 total.\n",
      "\n"
     ]
    },
    {
     "name": "stderr",
     "output_type": "stream",
     "text": [
      "  5% |###                                                                     |\r"
     ]
    },
    {
     "name": "stdout",
     "output_type": "stream",
     "text": [
      "\n",
      "w:  [[ 1.01848756  0.34764049  0.01334999 -1.16126252]]\n",
      "b:  [-2.11023967]\n",
      "4  missclassified out of  999 total.\n",
      "\n"
     ]
    },
    {
     "name": "stderr",
     "output_type": "stream",
     "text": [
      " 10% |#######                                                                 |\r"
     ]
    },
    {
     "name": "stdout",
     "output_type": "stream",
     "text": [
      "\n",
      "w:  [[ 1.24593396  0.42733163  0.01619136 -1.42561415]]\n",
      "b:  [-2.62017373]\n",
      "3  missclassified out of  999 total.\n",
      "\n"
     ]
    },
    {
     "name": "stderr",
     "output_type": "stream",
     "text": [
      " 15% |##########                                                              |\r"
     ]
    },
    {
     "name": "stdout",
     "output_type": "stream",
     "text": [
      "\n",
      "w:  [[ 1.40065697  0.48015671  0.01736929 -1.60481994]]\n",
      "b:  [-2.9645739]\n",
      "3  missclassified out of  999 total.\n",
      "\n"
     ]
    },
    {
     "name": "stderr",
     "output_type": "stream",
     "text": [
      " 20% |##############                                                          |\r"
     ]
    },
    {
     "name": "stdout",
     "output_type": "stream",
     "text": [
      "\n",
      "w:  [[ 1.52474002  0.52229288  0.01745354 -1.7481288 ]]\n",
      "b:  [-3.24463377]\n",
      "3  missclassified out of  999 total.\n",
      "\n"
     ]
    },
    {
     "name": "stderr",
     "output_type": "stream",
     "text": [
      " 25% |##################                                                      |\r"
     ]
    },
    {
     "name": "stdout",
     "output_type": "stream",
     "text": [
      "\n",
      "w:  [[ 1.63342977  0.55966641  0.01722062 -1.87298045]]\n",
      "b:  [-3.49127463]\n",
      "3  missclassified out of  999 total.\n",
      "\n"
     ]
    },
    {
     "name": "stderr",
     "output_type": "stream",
     "text": [
      " 30% |#####################                                                   |\r"
     ]
    },
    {
     "name": "stdout",
     "output_type": "stream",
     "text": [
      "\n",
      "w:  [[ 1.73182385  0.59453675  0.01736822 -1.98591311]]\n",
      "b:  [-3.71327479]\n",
      "2  missclassified out of  999 total.\n",
      "\n"
     ]
    },
    {
     "name": "stderr",
     "output_type": "stream",
     "text": [
      " 35% |#########################                                               |\r"
     ]
    },
    {
     "name": "stdout",
     "output_type": "stream",
     "text": [
      "\n",
      "w:  [[ 1.82133717  0.62642594  0.01679967 -2.08960769]]\n",
      "b:  [-3.91716501]\n",
      "1  missclassified out of  999 total.\n",
      "\n"
     ]
    },
    {
     "name": "stderr",
     "output_type": "stream",
     "text": [
      "  0% |                                                                        |\r"
     ]
    },
    {
     "name": "stdout",
     "output_type": "stream",
     "text": [
      "\n",
      "w:  [[ 1.85088243  0.63697813  0.01662486 -2.12394547]]\n",
      "b:  [-3.98481458]\n",
      "0  missclassified out of  999 total.\n",
      "\n",
      "Nubmer of iterations:  1837\n",
      "\n",
      "\n",
      "with the step size:  0.1\n",
      "\n",
      "w:  [[ 0.25593007  0.09172016 -0.02166612 -0.33464927]]\n",
      "b:  [-0.07107107]\n",
      "139  missclassified out of  999 total.\n",
      "\n"
     ]
    },
    {
     "name": "stderr",
     "output_type": "stream",
     "text": [
      "  5% |###                                                                     |\r"
     ]
    },
    {
     "name": "stdout",
     "output_type": "stream",
     "text": [
      "\n",
      "w:  [[ 0.81261273  0.27807322  0.01229323 -0.92982198]]\n",
      "b:  [-1.66289932]\n",
      "9  missclassified out of  999 total.\n",
      "\n"
     ]
    },
    {
     "name": "stderr",
     "output_type": "stream",
     "text": [
      " 10% |#######                                                                 |\r"
     ]
    },
    {
     "name": "stdout",
     "output_type": "stream",
     "text": [
      "\n",
      "w:  [[ 1.01181193  0.3453917   0.01329073 -1.1536202 ]]\n",
      "b:  [-2.09556076]\n",
      "4  missclassified out of  999 total.\n",
      "\n"
     ]
    },
    {
     "name": "stderr",
     "output_type": "stream",
     "text": [
      " 15% |##########                                                              |\r"
     ]
    },
    {
     "name": "stdout",
     "output_type": "stream",
     "text": [
      "\n",
      "w:  [[ 1.14206121  0.39067983  0.01493116 -1.30411625]]\n",
      "b:  [-2.38581118]\n",
      "3  missclassified out of  999 total.\n",
      "\n"
     ]
    },
    {
     "name": "stderr",
     "output_type": "stream",
     "text": [
      " 20% |##############                                                          |\r"
     ]
    },
    {
     "name": "stdout",
     "output_type": "stream",
     "text": [
      "\n",
      "w:  [[ 1.24193419  0.42591194  0.01617666 -1.42095266]]\n",
      "b:  [-2.61119112]\n",
      "3  missclassified out of  999 total.\n",
      "\n"
     ]
    },
    {
     "name": "stderr",
     "output_type": "stream",
     "text": [
      " 25% |##################                                                      |\r"
     ]
    },
    {
     "name": "stdout",
     "output_type": "stream",
     "text": [
      "\n",
      "w:  [[ 1.32559023  0.4547694   0.01671904 -1.51748261]]\n",
      "b:  [-2.79665904]\n",
      "3  missclassified out of  999 total.\n",
      "\n"
     ]
    },
    {
     "name": "stderr",
     "output_type": "stream",
     "text": [
      " 30% |#####################                                                   |\r"
     ]
    },
    {
     "name": "stdout",
     "output_type": "stream",
     "text": [
      "\n",
      "w:  [[ 1.39759859  0.4791238   0.01733697 -1.60126654]]\n",
      "b:  [-2.95772725]\n",
      "3  missclassified out of  999 total.\n",
      "\n"
     ]
    },
    {
     "name": "stderr",
     "output_type": "stream",
     "text": [
      " 35% |#########################                                               |\r"
     ]
    },
    {
     "name": "stdout",
     "output_type": "stream",
     "text": [
      "\n",
      "w:  [[ 1.46232419  0.50113233  0.01769782 -1.67635701]]\n",
      "b:  [-3.10321654]\n",
      "3  missclassified out of  999 total.\n",
      "\n"
     ]
    },
    {
     "name": "stderr",
     "output_type": "stream",
     "text": [
      " 40% |############################                                            |\r"
     ]
    },
    {
     "name": "stdout",
     "output_type": "stream",
     "text": [
      "\n",
      "w:  [[ 1.52211891  0.52140362  0.01746407 -1.74511767]]\n",
      "b:  [-3.2386834]\n",
      "3  missclassified out of  999 total.\n",
      "\n"
     ]
    },
    {
     "name": "stderr",
     "output_type": "stream",
     "text": [
      " 45% |################################                                        |\r"
     ]
    },
    {
     "name": "stdout",
     "output_type": "stream",
     "text": [
      "\n",
      "w:  [[ 1.57820123  0.54043065  0.01723876 -1.80954524]]\n",
      "b:  [-3.36600085]\n",
      "3  missclassified out of  999 total.\n",
      "\n"
     ]
    },
    {
     "name": "stderr",
     "output_type": "stream",
     "text": [
      " 50% |####################################                                    |\r"
     ]
    },
    {
     "name": "stdout",
     "output_type": "stream",
     "text": [
      "\n",
      "w:  [[ 1.63108226  0.5588369   0.01721829 -1.87028249]]\n",
      "b:  [-3.48595247]\n",
      "3  missclassified out of  999 total.\n",
      "\n"
     ]
    },
    {
     "name": "stderr",
     "output_type": "stream",
     "text": [
      " 55% |#######################################                                 |\r"
     ]
    },
    {
     "name": "stdout",
     "output_type": "stream",
     "text": [
      "\n",
      "w:  [[ 1.68146215  0.57668363  0.01730706 -1.92818372]]\n",
      "b:  [-3.59991308]\n",
      "3  missclassified out of  999 total.\n",
      "\n"
     ]
    },
    {
     "name": "stderr",
     "output_type": "stream",
     "text": [
      " 60% |###########################################                             |\r"
     ]
    },
    {
     "name": "stdout",
     "output_type": "stream",
     "text": [
      "\n",
      "w:  [[ 1.72966562  0.59377463  0.0173716  -1.98343916]]\n",
      "b:  [-3.70842948]\n",
      "2  missclassified out of  999 total.\n",
      "\n"
     ]
    },
    {
     "name": "stderr",
     "output_type": "stream",
     "text": [
      " 65% |##############################################                          |\r"
     ]
    },
    {
     "name": "stdout",
     "output_type": "stream",
     "text": [
      "\n",
      "w:  [[ 1.77552326  0.61008845  0.01710384 -2.03641325]]\n",
      "b:  [-3.81233409]\n",
      "1  missclassified out of  999 total.\n",
      "\n"
     ]
    },
    {
     "name": "stderr",
     "output_type": "stream",
     "text": [
      " 70% |##################################################                      |\r"
     ]
    },
    {
     "name": "stdout",
     "output_type": "stream",
     "text": [
      "\n",
      "w:  [[ 1.81936112  0.62572171  0.01681153 -2.08731294]]\n",
      "b:  [-3.91264023]\n",
      "1  missclassified out of  999 total.\n",
      "\n"
     ]
    },
    {
     "name": "stderr",
     "output_type": "stream",
     "text": [
      " 73% |####################################################                    |\r"
     ]
    },
    {
     "name": "stdout",
     "output_type": "stream",
     "text": [
      "\n",
      "w:  [[ 1.85096667  0.63700839  0.01662439 -2.12404356]]\n",
      "b:  [-3.98500714]\n",
      "0  missclassified out of  999 total.\n",
      "\n",
      "Nubmer of iterations:  3686\n"
     ]
    }
   ],
   "source": [
    "for step_size in [0.5,0.4,0.2,0.1]:\n",
    "  print('\\n\\nwith the step size: ',step_size,)\n",
    "  standard(itrs = 5000, step_size = step_size)"
   ]
  },
  {
   "cell_type": "markdown",
   "metadata": {
    "id": "sD_fitJr36w9"
   },
   "source": [
    "### (c)\n",
    "Does your subgradient descent implementation with step size one always converge using this loss? Explain."
   ]
  },
  {
   "cell_type": "markdown",
   "metadata": {
    "id": "s_vzl4-FsZdp"
   },
   "source": [
    "No. As we saw, overflow forced the algorithm to stop. "
   ]
  },
  {
   "cell_type": "markdown",
   "metadata": {
    "id": "hEA1-hIf6r8A"
   },
   "source": [
    "# Problem 2: Separability & Feature Vectors"
   ]
  },
  {
   "cell_type": "markdown",
   "metadata": {
    "id": "1lMbZ8zN4EB5"
   },
   "source": [
    "##1. \n",
    "Consider the following data set."
   ]
  },
  {
   "cell_type": "code",
   "execution_count": null,
   "metadata": {
    "colab": {
     "base_uri": "https://localhost:8080/",
     "height": 269
    },
    "id": "BTQZqIK47ALk",
    "outputId": "5cb894ed-e12c-4871-ba36-db79311fa392"
   },
   "outputs": [
    {
     "data": {
      "image/png": "[encoded data removed]",
      "text/plain": [
       "<Figure size 288x288 with 1 Axes>"
      ]
     },
     "metadata": {
      "needs_background": "light"
     },
     "output_type": "display_data"
    }
   ],
   "source": [
    "import matplotlib.pyplot as plt\n",
    "plt.figure(figsize=(4,4));\n",
    "plt.plot(-1,-1,'xb')\n",
    "plt.plot(1,1,'xb')\n",
    "plt.plot(-1,1,'or')\n",
    "plt.plot(1,-1,'or')\n",
    "plt.xlim(-3,3);\n",
    "plt.ylim(-3,3);"
   ]
  },
  {
   "cell_type": "markdown",
   "metadata": {
    "id": "Kx8kWJFuE4xN"
   },
   "source": [
    "Under which of the following feature vectors is the data linearly separable? For full credit, you must justify your answer by either providing a linear separator or explaining why such a separator does not exist."
   ]
  },
  {
   "cell_type": "markdown",
   "metadata": {
    "id": "Z4JurbPMFMU0"
   },
   "source": [
    "### (a)\n",
    "$\\enspace \\phi (x_1, x_2)= \\left [ \\begin{array}{c} x_1 + x_2 \\\\ x_1 - x_2 \\\\ \\end{array} \\right]$"
   ]
  },
  {
   "cell_type": "code",
   "execution_count": null,
   "metadata": {
    "colab": {
     "base_uri": "https://localhost:8080/",
     "height": 269
    },
    "id": "AolGT2252cM_",
    "outputId": "b4ced8dd-219e-40ae-eb7c-126e5a88d4fd"
   },
   "outputs": [
    {
     "data": {
      "image/png": "[encoded data removed]",
      "text/plain": [
       "<Figure size 288x288 with 1 Axes>"
      ]
     },
     "metadata": {
      "needs_background": "light"
     },
     "output_type": "display_data"
    }
   ],
   "source": [
    "plt.figure(figsize=(4,4));\n",
    "plt.plot(-2,0,'xb')\n",
    "plt.plot(2,0,'xb')\n",
    "plt.plot(0,-2,'or')\n",
    "plt.plot(0,2,'or')\n",
    "plt.xlim(-3,3);\n",
    "plt.ylim(-3,3);"
   ]
  },
  {
   "cell_type": "markdown",
   "metadata": {
    "id": "xtaZq5EFGW3Z"
   },
   "source": [
    "###(b)\n",
    "$\\enspace \\phi (x_1, x_2)= \\left [ \\begin{array}{c} x_1^2 \\\\ x_2^2 \\\\ x_1x_2 \\end{array} \\right]$"
   ]
  },
  {
   "cell_type": "code",
   "execution_count": null,
   "metadata": {
    "colab": {
     "base_uri": "https://localhost:8080/",
     "height": 248
    },
    "id": "bCaeQ_gl70Lb",
    "outputId": "689f529b-76d6-4625-de91-c360444f7774"
   },
   "outputs": [
    {
     "data": {
      "image/png": "[encoded data removed]",
      "text/plain": [
       "<Figure size 432x288 with 1 Axes>"
      ]
     },
     "metadata": {
      "needs_background": "light"
     },
     "output_type": "display_data"
    }
   ],
   "source": [
    "fig = plt.figure()\n",
    "ax = fig.add_subplot(111, projection='3d')\n",
    "ax.scatter(1, 1, 1, c = 'b',marker = 'x')\n",
    "ax.scatter(1, 1, 1, c = 'b',marker = 'x')\n",
    "ax.scatter(1, 1, -1, c = 'r',marker = 'o')\n",
    "ax.scatter(1, 1, -1, c = 'r',marker = 'o')\n",
    "x = y = np.arange(0, 2, 0.05)\n",
    "X, Y = np.meshgrid(x, y)\n",
    "zs = np.zeros(X.shape) \n",
    "ax.plot_surface(X, Y, zs)\n",
    "plt.show()"
   ]
  },
  {
   "cell_type": "markdown",
   "metadata": {
    "id": "6ZiBQbXyGG85"
   },
   "source": [
    "###(c)\n",
    "$\\enspace \\phi (x_1, x_2)= \\left [ \\begin{array}{c} \\exp{(x_1)}\\\\ \\exp{(x_2)} \\\\ \\end{array} \\right]$"
   ]
  },
  {
   "cell_type": "code",
   "execution_count": null,
   "metadata": {
    "colab": {
     "base_uri": "https://localhost:8080/",
     "height": 269
    },
    "id": "Q86JP7DR6hZg",
    "outputId": "fcc6f305-54be-4e2b-89ea-a81c9eb92b4b"
   },
   "outputs": [
    {
     "data": {
      "image/png": "[encoded data removed]",
      "text/plain": [
       "<Figure size 288x288 with 1 Axes>"
      ]
     },
     "metadata": {
      "needs_background": "light"
     },
     "output_type": "display_data"
    }
   ],
   "source": [
    "import math\n",
    "plt.figure(figsize=(4,4));\n",
    "plt.plot(math.exp(-1),math.exp(-1),'xb')\n",
    "plt.plot(math.exp(1),math.exp(1),'xb')\n",
    "plt.plot(math.exp(-1),math.exp(1),'or')\n",
    "plt.plot(math.exp(1),math.exp(-1),'or')\n",
    "plt.xlim(-1,4);\n",
    "plt.ylim(-1,4);"
   ]
  },
  {
   "cell_type": "markdown",
   "metadata": {
    "id": "GVaAV7hkKScR"
   },
   "source": [
    "###(d)\n",
    "$\\enspace \\phi (x_1, x_2)= \\left [ \\begin{array}{c} x_1\\cdot\\sin{(x_2)}\\\\ x_1 \\\\ \\end{array} \\right]$"
   ]
  },
  {
   "cell_type": "code",
   "execution_count": null,
   "metadata": {
    "colab": {
     "base_uri": "https://localhost:8080/",
     "height": 269
    },
    "id": "yt5Pm7Z97KXb",
    "outputId": "7e066c3b-38c0-408e-9562-cc3370aae16c"
   },
   "outputs": [
    {
     "data": {
      "image/png": "[encoded data removed]",
      "text/plain": [
       "<Figure size 288x288 with 1 Axes>"
      ]
     },
     "metadata": {
      "needs_background": "light"
     },
     "output_type": "display_data"
    }
   ],
   "source": [
    "import math\n",
    "plt.figure(figsize=(4,4));\n",
    "plt.plot(-1 * math.sin(-1),-1,'xb')\n",
    "plt.plot(1 * math.sin(1),1,'xb')\n",
    "plt.plot(-1 * math.sin(1),-1,'or')\n",
    "plt.plot(1 * math.sin(-1),1,'or')\n",
    "plt.xlim(-2,2);\n",
    "plt.ylim(-2,2);\n",
    "\n",
    "x = np.linspace(-2,2,10)\n",
    "plt.plot(x,-3*x,'--',label = 'y = -3x')\n",
    "plt.legend()\n",
    "plt.show()"
   ]
  },
  {
   "cell_type": "markdown",
   "metadata": {
    "id": "xb25JTcRKzId"
   },
   "source": [
    "## 2.\n",
    "Suppose that you wanted to perform polynomial regression for 2-dimensional data points using gradient descent, i.e., you want to fit a polynomial of degree $k$ to your data. Explain how to do this using feature vectors. What is the per iteration complexity of gradient descent as a function of the size of your feature representation and the number of training data points?"
   ]
  },
  {
   "cell_type": "markdown",
   "metadata": {
    "id": "O2h-22S0IP6o"
   },
   "source": [
    "A polynomian of degree k for 2-dimential data points can be represented as\n",
    "$$a_0x_1^k + a_1x_1^{k-1}x_2 + a_2x_1^{k-2}x_2^2 + \\dots + a_{k-1}x_1x_2^{k-1} + a_{k}x_2^k + b$$\n",
    "So, all we need to find is $a = [a_0,\\dots,a_{k+1}]$ and $b$. In order to do so, we need to create another data set, based on the data that we have been given. This new data set has $k+1$ features (rather than 2 that was the feature number in the oroginal data set), and each feature is $x_1^{i}x_2^{k-i}$ for one $i\\in\\{0,\\dots,k\\}$. The rest is the same. \n",
    "\n",
    "This modification does not change the number of data points, so in regards to computation complexity, everything is the same, but each dot product of vectors of lenght two becomes a dot product between vectors of lenght $k+1$."
   ]
  },
  {
   "cell_type": "markdown",
   "metadata": {
    "id": "QR-fErK0K96D"
   },
   "source": [
    "# Problem 3: Support Vector Machines\n",
    "For this problem, consider the data set (mystery.data) attached to this homework that, like Problem 1, contains four numeric attributes per row and the fifth entry is the class variable (either $+$ or $-$). Find a perfect classifier for this data set using support vector machines. Your solution should explain the optimization problem that you solved and provide the learned parameters, the optimal margin, and the support vectors. Note, for full credit, your solution should only make use of a quadratic programming solver, i.e., you should not rely on existing SVM toolkits."
   ]
  },
  {
   "cell_type": "code",
   "execution_count": 9,
   "metadata": {
    "colab": {
     "base_uri": "https://localhost:8080/"
    },
    "id": "K9xwBG4JK1bC",
    "outputId": "c3266f12-7ecf-4e25-8b37-565b00076cfb"
   },
   "outputs": [
    {
     "name": "stdout",
     "output_type": "stream",
     "text": [
      "          x1        x2       x3       x4  y\n",
      "0    0.14343  0.258500  0.79126  0.53526  1\n",
      "1    0.19117  0.526940  0.28061  0.77913  1\n",
      "2    0.40839  0.239850  0.35756  0.80489  1\n",
      "3    0.16432  0.002530  0.40666  0.89868  1\n",
      "4    0.27962  0.177280  0.58566  0.73986  1\n",
      "..       ...       ...      ...      ... ..\n",
      "995  0.35432  0.235120  0.91744  0.98868 -1\n",
      "996  1.02650  0.756380  0.53262  0.30093 -1\n",
      "997  0.46145  0.751200  0.40619  1.02850 -1\n",
      "998  0.49309  0.076142  0.52661  1.21400 -1\n",
      "999  1.02920  0.682210  0.36240  0.58659 -1\n",
      "\n",
      "[1000 rows x 5 columns]\n"
     ]
    },
    {
     "name": "stderr",
     "output_type": "stream",
     "text": [
      "--2022-03-08 23:57:30--  https://personal.utdallas.edu/~shahab.shams/files/ML_Spring_2021/mystery.data\n",
      "Resolving personal.utdallas.edu (personal.utdallas.edu)... 129.110.46.112\n",
      "Connecting to personal.utdallas.edu (personal.utdallas.edu)|129.110.46.112|:443... connected.\n",
      "HTTP request sent, awaiting response... 200 OK\n",
      "Length: 34159 (33K)\n",
      "Saving to: 'mystery.data'\n",
      "\n",
      "     0K .......... .......... .......... ...                  100%  311K=0.1s\n",
      "\n",
      "2022-03-08 23:57:41 (311 KB/s) - 'mystery.data' saved [34159/34159]\n",
      "\n"
     ]
    }
   ],
   "source": [
    "import numpy as np\n",
    "import pandas as pd\n",
    "import sys, os\n",
    "\n",
    "col_names = ['x1','x2','x3','x4','y']\n",
    "!wget -nc https://personal.utdallas.edu/~shahab.shams/files/ML_Spring_2021/mystery.data\n",
    "data =  pd.read_csv('mystery.data', sep=\",\" , names = col_names)\n",
    "print(data)"
   ]
  },
  {
   "cell_type": "code",
   "execution_count": 10,
   "metadata": {
    "colab": {
     "base_uri": "https://localhost:8080/"
    },
    "id": "1I-dmCSjLSvr",
    "outputId": "467bb49c-9299-4c0f-fc6e-34782e252163"
   },
   "outputs": [
    {
     "name": "stdout",
     "output_type": "stream",
     "text": [
      "Y dimention:  (1000, 1)\n",
      "X dimnetion:  (1000, 4)\n"
     ]
    }
   ],
   "source": [
    "Y = data['y'].values\n",
    "Y = Y.reshape(-1,1)\n",
    "print('Y dimention: ',Y.shape)\n",
    "X = data[['x1','x2','x3','x4']].values\n",
    "print('X dimnetion: ',X.shape)"
   ]
  },
  {
   "cell_type": "markdown",
   "metadata": {
    "id": "NN5kG-HwMb9L"
   },
   "source": [
    "Primal Problem:\n",
    "$$\\min \\frac{1}{2}\\Vert w \\Vert_2^2$$\n",
    "such that\n",
    "$$\\forall i \\in \\{1,\\dots,M\\} \\quad\\quad  1 - y^{(i)}(w^T x^{(i)} + b) \\leq 0. $$\n",
    "To see why, please check the slides and lectures. "
   ]
  },
  {
   "cell_type": "markdown",
   "metadata": {
    "id": "pAfHbmOcLpq0"
   },
   "source": [
    "The promal problem is a quadradic obtimization and we can solve it. However this data set that we have is not linearly separable in its original domain.  To find the perfect classifier, one possible approch is to hire a modified feature vector like $[x_1^2,x_2^2,x_3^2,x_4^2, x_1x_2x_3x_4]$. But here we try to solve the dual problem. "
   ]
  },
  {
   "cell_type": "markdown",
   "metadata": {
    "id": "BqEVDxHVZ9HR"
   },
   "source": [
    "Lagrangian:\n",
    "\n",
    "$$L(w,\\lambda)  = \\frac{1}{2}w^Tw + \\sum_{i=1}^M \\lambda_i (1-y^{(i)}(w^Tx^{(i)} + b))$$\n",
    "\n",
    "$$ \\frac{\\partial L(w,\\lambda)}{\\partial w} = w - \\sum_{i=1}^{M}\\lambda_i y^{(i)}x^{(i)} = 0 \\rightarrow w = \\sum_{i=1}^{M}\\lambda_iy^{(i)}x^{(i)}$$\n",
    "$$ \\frac{\\partial L(w,\\lambda)}{\\partial b} =  -\\sum_{i=1}^{M}\\lambda_iy^{(i)} = 0 \\rightarrow \\sum_{i=1}^{M}\\lambda_iy^{(i)} = 0 $$\n",
    "\n",
    "Now by substituting $w$ back in the Lagrangian we get the dual problem."
   ]
  },
  {
   "cell_type": "markdown",
   "metadata": {
    "id": "nMNQdLp_dQ10"
   },
   "source": [
    "Dual Problem\n",
    "\n",
    "$$\\max_{\\lambda} -\\frac{1}{2}\\sum_{i=1}^{M}\\sum_{j=1}^{M} \\lambda_i\\lambda_jy^{(i)}y^{(j)}\\langle x^{(i)},x^{(j)}\\rangle + \\sum_{i=1}^{M}\\lambda_i$$\n",
    "such that\n",
    "$$\\sum_{i=1}^{M} \\lambda_iy^{(i)} = 0$$\n",
    "$$\\lambda_i\\geq 0 \\quad \\forall i\\in\\{1,\\dots,M\\}$$"
   ]
  },
  {
   "cell_type": "markdown",
   "metadata": {
    "id": "av6R8j-FCyVl"
   },
   "source": [
    "The result of Dual problem is the Lagrange multipliers, $\\lambda = [\\lambda_1,\\dots,\\lambda_M]$. These variables show us which data points are support vectors. \n",
    "$$\\forall i \\in \\{1,\\dots,M\\} \\text{ if } \\lambda_i > 0 \\text{ then } x^{(i)} \\text{ is a support vector.}$$\n",
    "To see why, please check the lectures and slides, or come during office hours. \n",
    "\n",
    "In the following, we will see how to use support vectors to get a classifier. "
   ]
  },
  {
   "cell_type": "markdown",
   "metadata": {
    "id": "A7J26NLspGGv"
   },
   "source": [
    "Kernel Trick for Dual SVM\n",
    "\n",
    "$$\\max_{\\lambda} -\\frac{1}{2}\\sum_{i=1}^M\\sum_{j=1}^M \\lambda_i\\lambda_jy^{(i)}y^{(j)}K(x^{(i)},x^{(j)}) + \\sum_{i=1}^M \\lambda_i$$\n",
    "The Kernel function can be anything such as Gaussian, $K(x^{(i)},x^{(j)}) = \\exp(-\\gamma\\Vert x^{(i)} - x^{(j)}\\Vert^2)$."
   ]
  },
  {
   "cell_type": "code",
   "execution_count": 11,
   "metadata": {
    "id": "-KkFvEpyOPTA"
   },
   "outputs": [],
   "source": [
    "import numpy as np\n",
    "\n",
    "def poly_func(X,poly_case):\n",
    "  if poly_case == 'Full-2':\n",
    "    return np.array([X[0],X[1],X[2],X[3],\n",
    "                     X[0]**2,X[1]**2,X[2]**2,X[3]**2,\n",
    "                     X[0]*X[1],X[1]*X[2],X[2]*X[3],X[0]*X[2],X[1]*X[3],X[0]*X[3],\n",
    "                     X[0]*X[1]*X[2]*X[3]])\n",
    "  elif poly_case == 5:\n",
    "    return np.array([X[0]**2,X[1]**2,X[2]**2,X[3]**2,X[0]*X[1]*X[2]*X[3]])\n",
    "\n",
    "  elif poly_case == 'Linear':\n",
    "    return X\n",
    "\n",
    "def K(X1,X2,kernel_option,gamma = 1,poly_case = 'Linear'):\n",
    "  if kernel_option == 'Gaussian':\n",
    "    return  np.exp(-gamma * np.linalg.norm(X1 - X2)**2)/2\n",
    "  if kernel_option == 'Polynomial':\n",
    "    v1 = poly_func(X1,poly_case)\n",
    "    v2 = poly_func(X2,poly_case)\n",
    "    return v1.dot(v2)"
   ]
  },
  {
   "cell_type": "markdown",
   "metadata": {
    "id": "g7SDDtqnXUJ_"
   },
   "source": [
    "Solving Quadratic Programming with CVXOPT\n",
    "\n",
    "$$\\min \\frac{1}{2}x^T P x + q^Tx$$\n",
    "such that \n",
    "$$Gx \\preceq h$$\n",
    "$$Ax = b$$\n",
    "\n",
    "See the Quadratic Programming\n",
    " from https://cvxopt.org/userguide/coneprog.html\n"
   ]
  },
  {
   "cell_type": "markdown",
   "metadata": {
    "id": "W1BqZSu3YRWF"
   },
   "source": [
    "Here, we do not implement the optimization process from the scratch. Instead we utilize CVXOPT. In order to use CVXOPT's API, we have to convert our Dual Problem into a proper notation that is undrestandable for CVXOPT. So, the followin step is just creating new matrices with proper names and then simply passing them to CVXOPT.\n",
    "Just notice that our variable is $\\lambda$ and not $x$. Both $y$ and $x$ are given through the data set, and it's only Lagranle multipliers that we have to find.\n",
    "\n",
    "The translation into CVXOPT is as follow.\n",
    "\n",
    "Given $Y\\in\\mathbb{R}^{M\\times 1}$ and $X\\in\\mathbb{R}^{M\\times 4}$\n",
    "0. Convert the maximization to minimization by multiplying the objectiv function to -1.  \n",
    "1. $P = YY^T\\odot K(X,X)$      \n",
    "when $\\odot$ is the Hadamard product, and matrix $K(X,X)\\in\\mathbb{R}^{M\\times M}$ such that $\\forall i,j\\in\\{1,\\dots,M\\}$, $K(X,X)_{i,j} = K(X_i,X_j)$. \n",
    "2. $q = [-1]^M$\n",
    "3. $G = -I_{M\\times M}$\n",
    "4. $h = [0]^M$\n",
    "5. $A = Y^T$\n",
    "6. $b = 0$ "
   ]
  },
  {
   "cell_type": "code",
   "execution_count": 13,
   "metadata": {
    "id": "eee9Nz3Je39T"
   },
   "outputs": [],
   "source": [
    "from cvxopt import matrix as cvxopt_matrix\n",
    "from cvxopt import solvers\n",
    "\n",
    "def SVM_with_Kernel(X,Y,kernel_option, gamma = 1,poly_case = 'Linear'):\n",
    "  m,n = X.shape\n",
    "  H = np.zeros([m,m])\n",
    "  for i in range(m):\n",
    "    for j in range(m):\n",
    "      H[i,j] = Y[i]*Y[j] * K(X[i],X[j], kernel_option,gamma, poly_case)\n",
    "\n",
    "#Converting into cvxopt format\n",
    "  P = cvxopt_matrix(H)\n",
    "  q = cvxopt_matrix(-np.ones((m, 1)))\n",
    "  G = cvxopt_matrix(-np.eye(m))\n",
    "  h = cvxopt_matrix(np.zeros(m))\n",
    "  A = cvxopt_matrix(Y.reshape(1, -1)* 1.)\n",
    "  b = cvxopt_matrix(np.zeros(1))\n",
    "#Run solver\n",
    "  solvers.options['show_progress'] = False\n",
    "  sol = solvers.qp(P, q, G, h, A, b);\n",
    "  lambdas = np.array(sol['x']);\n",
    "\n",
    "  return lambdas"
   ]
  },
  {
   "cell_type": "markdown",
   "metadata": {
    "id": "0vVrysqAg3y0"
   },
   "source": [
    "What happen after we have found Lagrange multipliers? \n",
    "\n",
    "Looking back at the procedure that converted the Primal problem into the Dual problem, we find \n",
    "$$w = \\sum_{i=1}^{M}\\lambda_iy^{(i)}x^{(i)}.$$\n",
    "$y$ and $x$ are given. And now that we have $\\lambda$, we can simply find $w$. For finding the intercept, $b$, we did not encouter any specific formula. But, since we have the support vectors, we can calculate $b$ as well. Remmember that we started by forcing\n",
    "$$\\forall i \\in \\{1,\\dots,M\\} \\quad\\quad  1 - y^{(i)}(w^T x^{(i)} + b) \\leq 0. $$\n",
    "We know that for support vectors, $1 - y^{(i)}(w^T x^{(i)} + b) = 0$. So, for each support vectors as $s$, we have $$b = \\frac{1 - y^{(s)}w^Tx^{(s)}}{y^{(s)}} \\rightarrow \\begin{cases} b = 1 - w^Tx^{(s)}& y^{(s)} = 1 \\\\ b = -1 - w^Tx{(s)}& y^{(s)} = -1\\end{cases}$$\n",
    "So,\n",
    "$$b = y^{(s)} - w^Tx^{(s)}.$$\n",
    "\n",
    "\n"
   ]
  },
  {
   "cell_type": "code",
   "execution_count": 14,
   "metadata": {
    "colab": {
     "base_uri": "https://localhost:8080/"
    },
    "id": "QiaZUq6_SIaz",
    "outputId": "d14a3544-b4ef-421a-c1b2-4e5f313c2599"
   },
   "outputs": [
    {
     "name": "stdout",
     "output_type": "stream",
     "text": [
      "\n",
      "Kernel Option:  Polynomial Linear\n",
      "w =  [-5.02184033e-04  5.74812293e-06 -9.97751951e-04 -4.67956066e-04]\n",
      "b =  [1.0011105]\n",
      "Accuracy: 500\n",
      "\n",
      "Kernel Option:  Polynomial 5\n",
      "w =  [-2.00026926e+00 -2.00029657e+00 -2.00027860e+00 -2.00028939e+00\n",
      " -1.01471662e-04]\n",
      "b =  [3.00031234]\n",
      "Accuracy: 1000\n",
      "Support Vectors: \n",
      " [  9  64  94 139 144 190 198 213 277 358 411 413 450 468 484 643 645 724\n",
      " 735 810 888 891]\n",
      "[ 1  1  1  1  1  1  1  1  1  1  1  1  1  1  1 -1 -1 -1 -1 -1 -1 -1]\n",
      "\n",
      "Kernel Option:  Polynomial Full-2\n",
      "w =  [-0.28567985 -0.29206962 -0.25582616 -0.33389673 -1.94176315 -1.94520011\n",
      " -1.9568138  -1.92587606  0.12357456  0.11490359  0.12791295  0.11128354\n",
      "  0.15288799  0.14159597 -0.04773691]\n",
      "b =  [3.3360581]\n",
      "Accuracy: 1000\n",
      "Support Vectors: \n",
      " [139 328 645 700 746 816 817 833 852 860 879 960]\n",
      "[ 1  1 -1 -1 -1 -1 -1 -1 -1 -1 -1 -1]\n"
     ]
    }
   ],
   "source": [
    "kernel_option = 'Polynomial'\n",
    "# 4 is the Linear\n",
    "\n",
    "dims = {'Linear':4,5:5,'Full-2':15}\n",
    "\n",
    "for poly_case in ['Linear',5,'Full-2']:\n",
    "  print('\\nKernel Option: ',kernel_option,poly_case)\n",
    "  lambdas = SVM_with_Kernel(X,Y,kernel_option,poly_case = poly_case)\n",
    "\n",
    "  modified_X = np.zeros([Y.shape[0],dims[poly_case]])\n",
    "  for n in range(Y.shape[0]):\n",
    "    modified_X[n] = poly_func(X[n],poly_case)\n",
    "\n",
    "  w = ((Y * lambdas).T @ modified_X).reshape(-1,1);\n",
    "  S = (lambdas > 1e-3).flatten();\n",
    "  b = Y[S] - np.dot(modified_X[S], w);\n",
    "  # print('lambdas = ',lambdas[lambdas > 1e-4])\n",
    "  Y_pred = modified_X.dot(w) + b[0]\n",
    "  print('w = ', w.flatten())\n",
    "  print('b = ', b[0])\n",
    "  res = sum([int(Y[i] == np.sign(Y_pred[i])) for i in range(Y.shape[0])])\n",
    "  print('Accuracy:', res)\n",
    "  if poly_case == 'Linear':continue\n",
    "  print('Support Vectors: \\n', np.where(lambdas>0.001)[0])\n",
    "  print(Y[np.where(lambdas>0.001)[0]].T[0])"
   ]
  },
  {
   "cell_type": "markdown",
   "metadata": {
    "id": "NPTDaCIWf9oY"
   },
   "source": [
    "For the Gaussian Kernel, predicting is slightly different. Remmember how we get to use the Kernel function.\n",
    "$$\\quad\\quad\\Phi(x^{(i)})^T\\Phi(x^{(j)}) \\equiv K(x^{(i)},x^{(j)}) $$\n",
    "We start by creating a new feature vector based on our data set, $\\Phi(x)$. Furthur, we replace $\\Phi(x^{(i)})^T\\Phi(x^{(j)})$ with $K(x^{(i)},x^{(j)})$ for simplicity. However, this trick allows us to use Kernel functions that we do not necessarily have a feature vector corresponding to. The Gaussian Kernel is one of those Kernel functions that requires a feature vector of lenght infinity. You may think this makes Gaussian Kernel useless. But actually this is why Gaussian Kernel is the most popular one. The main advantage of the Gaussian Kernel is that, with a very low cost, it takes your data set into an inifinite dimention and you do the classification there. But in the case of SVM, it only results in the support vectors, based on which you can not immediately calculate a separating line. The separating need to be done based on the similarities that each query point has with the support vectors. This task requires the influence that each support vector has in the separating process. "
   ]
  },
  {
   "cell_type": "code",
   "execution_count": 15,
   "metadata": {
    "colab": {
     "base_uri": "https://localhost:8080/"
    },
    "id": "ufM922iec35X",
    "outputId": "049d7aee-e3af-48da-b8f6-698361dcff89"
   },
   "outputs": [
    {
     "name": "stdout",
     "output_type": "stream",
     "text": [
      "Indices of support vectors:\n",
      " [  7  45 134 162 191 224 261 265 342 358 464 591 628 650 700 746 776 817\n",
      " 833 850 860 879 939 979 994]\n",
      "Support Vectors:\n",
      " [[0.0043834 0.60143   0.78558   0.14537  ]\n",
      " [0.65996   0.035779  0.7408    0.11994  ]\n",
      " [0.28969   0.19852   0.93181   0.091634 ]\n",
      " [0.95018   0.084484  0.016428  0.29957  ]\n",
      " [0.057479  0.0093453 0.83091   0.55335  ]\n",
      " [0.84726   0.038806  0.52722   0.051884 ]\n",
      " [0.99068   0.054552  0.085061  0.091362 ]\n",
      " [0.059681  0.96868   0.065506  0.23196  ]\n",
      " [0.63954   0.017487  0.036738  0.76768  ]\n",
      " [0.60991   0.7887    0.06143   0.046915 ]\n",
      " [0.035301  0.07096   0.022447  0.9966   ]\n",
      " [0.038325  0.0025055 1.0011    0.99821  ]\n",
      " [0.024464  0.056681  0.20296   1.3982   ]\n",
      " [0.041857  1.1835    0.079195  0.76902  ]\n",
      " [0.1363    0.022961  0.01358   1.4074   ]\n",
      " [1.2888    0.02535   0.021734  0.58119  ]\n",
      " [0.87856   1.0758    0.098352  0.24741  ]\n",
      " [0.2554    0.43854   1.3177    0.078137 ]\n",
      " [1.356     0.30684   0.13052   0.22375  ]\n",
      " [0.70627   0.042314  0.032845  1.2241   ]\n",
      " [0.10956   1.3847    0.035443  0.26341  ]\n",
      " [0.21853   1.3895    0.1212    0.082701 ]\n",
      " [1.2586    0.055016  0.59157   0.25073  ]\n",
      " [1.0523    0.19523   0.9091    0.16734  ]\n",
      " [0.094267  0.0063349 1.1528    0.81377  ]]\n"
     ]
    }
   ],
   "source": [
    "lambdas = SVM_with_Kernel(X,Y,'Gaussian', gamma = 1/ (X.var() * X.shape[1]))\n",
    "supports = X[np.where(lambdas > 1)[0]]\n",
    "print('Indices of support vectors:\\n',np.where(lambdas > 1)[0])\n",
    "print('Support Vectors:\\n',supports)"
   ]
  },
  {
   "cell_type": "code",
   "execution_count": 16,
   "metadata": {
    "id": "xs0YWAU2qt3V"
   },
   "outputs": [],
   "source": [
    "similarities = np.zeros([Y.shape[0],supports.shape[0]])\n",
    "for m in range(Y.shape[0]):\n",
    "  for s in range(supports.shape[0]):\n",
    "    similarities[m,s] = K(X[m],supports[s],kernel_option='Gaussian',gamma=1/ (X.var() * X.shape[1]))"
   ]
  },
  {
   "cell_type": "code",
   "execution_count": 17,
   "metadata": {
    "colab": {
     "base_uri": "https://localhost:8080/"
    },
    "id": "xLsMOgtBwd2T",
    "outputId": "43fad545-0c48-429a-e209-d59eab9a4427"
   },
   "outputs": [
    {
     "name": "stdout",
     "output_type": "stream",
     "text": [
      "Accuracy: 1000\n"
     ]
    }
   ],
   "source": [
    "lambdas = SVM_with_Kernel(similarities,Y,'Polynomial',poly_case='Linear')\n",
    "\n",
    "w = ((Y * lambdas).T @ similarities).reshape(-1,1);\n",
    "S = (lambdas > 1e-3).flatten();\n",
    "b = Y[S] - np.dot(similarities[S], w);\n",
    "Y_pred = similarities.dot(w) + b[0]\n",
    "res = sum([int(Y[i] == np.sign(Y_pred[i])) for i in range(Y.shape[0])])\n",
    "print('Accuracy:', res)"
   ]
  },
  {
   "cell_type": "markdown",
   "metadata": {
    "id": "xPIwK9BDSXRP"
   },
   "source": [
    "Now, you can get your optimal margin by yourself using  $1/||w||$."
   ]
  },
  {
   "cell_type": "markdown",
   "metadata": {
    "id": "-QzW9qvtwIo3"
   },
   "source": [
    "Compare with sklearn.svm\n",
    "\n",
    "This is not a part of your homework, but it is good to have an alternative method and check the result. \n",
    "\n",
    "Please check the support vectors that we have found using the Gaussian Kernel, and compare them with those that sklearn has found."
   ]
  },
  {
   "cell_type": "code",
   "execution_count": null,
   "metadata": {
    "colab": {
     "base_uri": "https://localhost:8080/"
    },
    "id": "ZcQOHzJPvF4M",
    "outputId": "3f6624cf-5502-4704-aba9-ef133474cfd7"
   },
   "outputs": [
    {
     "name": "stdout",
     "output_type": "stream",
     "text": [
      "\n",
      "Kernel: Radial Basis\n",
      "accuracy:  1000\n",
      "Indices of support vectors = \n",
      " [  7  45  81  84  93 134 147 162 169 191 224 247 259 261 265 270 279 315\n",
      " 342 343 358 389 409 443 464 491 501 503 560 566 591 593 628 631 641 643\n",
      " 645 650 659 664 676 700 709 734 746 776 779 789 814 816 817 822 829 833\n",
      " 850 852 860 879 880 882 906 922 939 979 990 994]\n",
      "Number of support vectors for each class =  [40 26]\n",
      "\n",
      "Kernel: Polynomial\n",
      "accuracy:  1000\n",
      "Indices of support vectors = \n",
      " [ 56  74  78 117 118 234 253 360 370 463 501 566 591 643 645 700 709 746\n",
      " 814 817 850 879 979]\n",
      "Number of support vectors for each class =  [13 10]\n",
      "\n",
      "Kernel: Linear\n",
      "accuracy:  977\n",
      "w:  [[-4.58962092 -4.70044817 -4.3506897  -6.10745074]]\n",
      "b:  [10.41611276]\n"
     ]
    }
   ],
   "source": [
    "from sklearn.svm import SVC\n",
    "print('\\nKernel: Radial Basis')\n",
    "clf = SVC(kernel = 'rbf')\n",
    "clf.fit(X, Y.ravel()) \n",
    "Y_pred = clf.predict(X).reshape(-1,1)\n",
    "print('accuracy: ',np.sum(Y_pred == Y))\n",
    "print('Indices of support vectors = \\n', np.sort(clf.support_))\n",
    "# print('Support vectors = \\n', clf.support_vectors_)\n",
    "print('Number of support vectors for each class = ', clf.n_support_)\n",
    "\n",
    "print('\\nKernel: Polynomial')\n",
    "clf = SVC(kernel = 'poly')\n",
    "clf.fit(X, Y.ravel()) \n",
    "Y_pred = clf.predict(X).reshape(-1,1)\n",
    "print('accuracy: ',np.sum(Y_pred == Y))\n",
    "print('Indices of support vectors = \\n', np.sort(clf.support_))\n",
    "# print('Support vectors = \\n', clf.support_vectors_)\n",
    "print('Number of support vectors for each class = ', clf.n_support_)\n",
    "\n",
    "print('\\nKernel: Linear')\n",
    "clf = SVC(kernel = 'linear')\n",
    "clf.fit(X, Y.ravel()) \n",
    "Y_pred = clf.predict(X).reshape(-1,1)\n",
    "print('accuracy: ',np.sum(Y_pred == Y))\n",
    "print('w: ',clf.coef_)\n",
    "print('b: ',clf.intercept_)\n",
    "\n",
    "\n"
   ]
  }
 ],
 "metadata": {
  "colab": {
   "name": "6375 -- HW1 - Solution .ipynb",
   "provenance": []
  },
  "kernelspec": {
   "display_name": "Python 3 (ipykernel)",
   "language": "python",
   "name": "python3"
  },
  "language_info": {
   "codemirror_mode": {
    "name": "ipython",
    "version": 3
   },
   "file_extension": ".py",
   "mimetype": "text/x-python",
   "name": "python",
   "nbconvert_exporter": "python",
   "pygments_lexer": "ipython3",
   "version": "3.9.7"
  }
 },
 "nbformat": 4,
 "nbformat_minor": 1
}
